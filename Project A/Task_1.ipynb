{
  "nbformat": 4,
  "nbformat_minor": 0,
  "metadata": {
    "colab": {
      "provenance": [],
      "gpuType": "T4",
      "authorship_tag": "ABX9TyMfNN9D9hynyfGMTiEmXA3H",
      "include_colab_link": true
    },
    "kernelspec": {
      "name": "python3",
      "display_name": "Python 3"
    },
    "language_info": {
      "name": "python"
    },
    "accelerator": "GPU",
    "widgets": {
      "application/vnd.jupyter.widget-state+json": {
        "c248b37ace354dada2fe928b3288152c": {
          "model_module": "@jupyter-widgets/controls",
          "model_name": "HBoxModel",
          "model_module_version": "1.5.0",
          "state": {
            "_dom_classes": [],
            "_model_module": "@jupyter-widgets/controls",
            "_model_module_version": "1.5.0",
            "_model_name": "HBoxModel",
            "_view_count": null,
            "_view_module": "@jupyter-widgets/controls",
            "_view_module_version": "1.5.0",
            "_view_name": "HBoxView",
            "box_style": "",
            "children": [
              "IPY_MODEL_f2df0dbbbb5743138c63dcf9d202cb1c",
              "IPY_MODEL_0d92b78080194dadbd95875b6f575ae5",
              "IPY_MODEL_ebeff8091387489c963bcace5cfd6abc"
            ],
            "layout": "IPY_MODEL_c67a330289bb47a09cb78d2420d4e397"
          }
        },
        "f2df0dbbbb5743138c63dcf9d202cb1c": {
          "model_module": "@jupyter-widgets/controls",
          "model_name": "HTMLModel",
          "model_module_version": "1.5.0",
          "state": {
            "_dom_classes": [],
            "_model_module": "@jupyter-widgets/controls",
            "_model_module_version": "1.5.0",
            "_model_name": "HTMLModel",
            "_view_count": null,
            "_view_module": "@jupyter-widgets/controls",
            "_view_module_version": "1.5.0",
            "_view_name": "HTMLView",
            "description": "",
            "description_tooltip": null,
            "layout": "IPY_MODEL_afa9b515bd3141a0a05824a37801de0d",
            "placeholder": "​",
            "style": "IPY_MODEL_ecef6577d63c492ba79821c6126c2b2f",
            "value": "Dl Completed...: 100%"
          }
        },
        "0d92b78080194dadbd95875b6f575ae5": {
          "model_module": "@jupyter-widgets/controls",
          "model_name": "FloatProgressModel",
          "model_module_version": "1.5.0",
          "state": {
            "_dom_classes": [],
            "_model_module": "@jupyter-widgets/controls",
            "_model_module_version": "1.5.0",
            "_model_name": "FloatProgressModel",
            "_view_count": null,
            "_view_module": "@jupyter-widgets/controls",
            "_view_module_version": "1.5.0",
            "_view_name": "ProgressView",
            "bar_style": "success",
            "description": "",
            "description_tooltip": null,
            "layout": "IPY_MODEL_1c087d0ef87d4eae9a0e8cd380311c96",
            "max": 5,
            "min": 0,
            "orientation": "horizontal",
            "style": "IPY_MODEL_32ec9eaed09e4dccb10664cebc34bd02",
            "value": 5
          }
        },
        "ebeff8091387489c963bcace5cfd6abc": {
          "model_module": "@jupyter-widgets/controls",
          "model_name": "HTMLModel",
          "model_module_version": "1.5.0",
          "state": {
            "_dom_classes": [],
            "_model_module": "@jupyter-widgets/controls",
            "_model_module_version": "1.5.0",
            "_model_name": "HTMLModel",
            "_view_count": null,
            "_view_module": "@jupyter-widgets/controls",
            "_view_module_version": "1.5.0",
            "_view_name": "HTMLView",
            "description": "",
            "description_tooltip": null,
            "layout": "IPY_MODEL_c6fcceded5db4f17b78b27b03ea28628",
            "placeholder": "​",
            "style": "IPY_MODEL_88d92a67ab494b88b99fa2752bcd4043",
            "value": " 5/5 [00:00&lt;00:00, 10.69 file/s]"
          }
        },
        "c67a330289bb47a09cb78d2420d4e397": {
          "model_module": "@jupyter-widgets/base",
          "model_name": "LayoutModel",
          "model_module_version": "1.2.0",
          "state": {
            "_model_module": "@jupyter-widgets/base",
            "_model_module_version": "1.2.0",
            "_model_name": "LayoutModel",
            "_view_count": null,
            "_view_module": "@jupyter-widgets/base",
            "_view_module_version": "1.2.0",
            "_view_name": "LayoutView",
            "align_content": null,
            "align_items": null,
            "align_self": null,
            "border": null,
            "bottom": null,
            "display": null,
            "flex": null,
            "flex_flow": null,
            "grid_area": null,
            "grid_auto_columns": null,
            "grid_auto_flow": null,
            "grid_auto_rows": null,
            "grid_column": null,
            "grid_gap": null,
            "grid_row": null,
            "grid_template_areas": null,
            "grid_template_columns": null,
            "grid_template_rows": null,
            "height": null,
            "justify_content": null,
            "justify_items": null,
            "left": null,
            "margin": null,
            "max_height": null,
            "max_width": null,
            "min_height": null,
            "min_width": null,
            "object_fit": null,
            "object_position": null,
            "order": null,
            "overflow": null,
            "overflow_x": null,
            "overflow_y": null,
            "padding": null,
            "right": null,
            "top": null,
            "visibility": null,
            "width": null
          }
        },
        "afa9b515bd3141a0a05824a37801de0d": {
          "model_module": "@jupyter-widgets/base",
          "model_name": "LayoutModel",
          "model_module_version": "1.2.0",
          "state": {
            "_model_module": "@jupyter-widgets/base",
            "_model_module_version": "1.2.0",
            "_model_name": "LayoutModel",
            "_view_count": null,
            "_view_module": "@jupyter-widgets/base",
            "_view_module_version": "1.2.0",
            "_view_name": "LayoutView",
            "align_content": null,
            "align_items": null,
            "align_self": null,
            "border": null,
            "bottom": null,
            "display": null,
            "flex": null,
            "flex_flow": null,
            "grid_area": null,
            "grid_auto_columns": null,
            "grid_auto_flow": null,
            "grid_auto_rows": null,
            "grid_column": null,
            "grid_gap": null,
            "grid_row": null,
            "grid_template_areas": null,
            "grid_template_columns": null,
            "grid_template_rows": null,
            "height": null,
            "justify_content": null,
            "justify_items": null,
            "left": null,
            "margin": null,
            "max_height": null,
            "max_width": null,
            "min_height": null,
            "min_width": null,
            "object_fit": null,
            "object_position": null,
            "order": null,
            "overflow": null,
            "overflow_x": null,
            "overflow_y": null,
            "padding": null,
            "right": null,
            "top": null,
            "visibility": null,
            "width": null
          }
        },
        "ecef6577d63c492ba79821c6126c2b2f": {
          "model_module": "@jupyter-widgets/controls",
          "model_name": "DescriptionStyleModel",
          "model_module_version": "1.5.0",
          "state": {
            "_model_module": "@jupyter-widgets/controls",
            "_model_module_version": "1.5.0",
            "_model_name": "DescriptionStyleModel",
            "_view_count": null,
            "_view_module": "@jupyter-widgets/base",
            "_view_module_version": "1.2.0",
            "_view_name": "StyleView",
            "description_width": ""
          }
        },
        "1c087d0ef87d4eae9a0e8cd380311c96": {
          "model_module": "@jupyter-widgets/base",
          "model_name": "LayoutModel",
          "model_module_version": "1.2.0",
          "state": {
            "_model_module": "@jupyter-widgets/base",
            "_model_module_version": "1.2.0",
            "_model_name": "LayoutModel",
            "_view_count": null,
            "_view_module": "@jupyter-widgets/base",
            "_view_module_version": "1.2.0",
            "_view_name": "LayoutView",
            "align_content": null,
            "align_items": null,
            "align_self": null,
            "border": null,
            "bottom": null,
            "display": null,
            "flex": null,
            "flex_flow": null,
            "grid_area": null,
            "grid_auto_columns": null,
            "grid_auto_flow": null,
            "grid_auto_rows": null,
            "grid_column": null,
            "grid_gap": null,
            "grid_row": null,
            "grid_template_areas": null,
            "grid_template_columns": null,
            "grid_template_rows": null,
            "height": null,
            "justify_content": null,
            "justify_items": null,
            "left": null,
            "margin": null,
            "max_height": null,
            "max_width": null,
            "min_height": null,
            "min_width": null,
            "object_fit": null,
            "object_position": null,
            "order": null,
            "overflow": null,
            "overflow_x": null,
            "overflow_y": null,
            "padding": null,
            "right": null,
            "top": null,
            "visibility": null,
            "width": null
          }
        },
        "32ec9eaed09e4dccb10664cebc34bd02": {
          "model_module": "@jupyter-widgets/controls",
          "model_name": "ProgressStyleModel",
          "model_module_version": "1.5.0",
          "state": {
            "_model_module": "@jupyter-widgets/controls",
            "_model_module_version": "1.5.0",
            "_model_name": "ProgressStyleModel",
            "_view_count": null,
            "_view_module": "@jupyter-widgets/base",
            "_view_module_version": "1.2.0",
            "_view_name": "StyleView",
            "bar_color": null,
            "description_width": ""
          }
        },
        "c6fcceded5db4f17b78b27b03ea28628": {
          "model_module": "@jupyter-widgets/base",
          "model_name": "LayoutModel",
          "model_module_version": "1.2.0",
          "state": {
            "_model_module": "@jupyter-widgets/base",
            "_model_module_version": "1.2.0",
            "_model_name": "LayoutModel",
            "_view_count": null,
            "_view_module": "@jupyter-widgets/base",
            "_view_module_version": "1.2.0",
            "_view_name": "LayoutView",
            "align_content": null,
            "align_items": null,
            "align_self": null,
            "border": null,
            "bottom": null,
            "display": null,
            "flex": null,
            "flex_flow": null,
            "grid_area": null,
            "grid_auto_columns": null,
            "grid_auto_flow": null,
            "grid_auto_rows": null,
            "grid_column": null,
            "grid_gap": null,
            "grid_row": null,
            "grid_template_areas": null,
            "grid_template_columns": null,
            "grid_template_rows": null,
            "height": null,
            "justify_content": null,
            "justify_items": null,
            "left": null,
            "margin": null,
            "max_height": null,
            "max_width": null,
            "min_height": null,
            "min_width": null,
            "object_fit": null,
            "object_position": null,
            "order": null,
            "overflow": null,
            "overflow_x": null,
            "overflow_y": null,
            "padding": null,
            "right": null,
            "top": null,
            "visibility": null,
            "width": null
          }
        },
        "88d92a67ab494b88b99fa2752bcd4043": {
          "model_module": "@jupyter-widgets/controls",
          "model_name": "DescriptionStyleModel",
          "model_module_version": "1.5.0",
          "state": {
            "_model_module": "@jupyter-widgets/controls",
            "_model_module_version": "1.5.0",
            "_model_name": "DescriptionStyleModel",
            "_view_count": null,
            "_view_module": "@jupyter-widgets/base",
            "_view_module_version": "1.2.0",
            "_view_name": "StyleView",
            "description_width": ""
          }
        }
      }
    }
  },
  "cells": [
    {
      "cell_type": "markdown",
      "metadata": {
        "id": "view-in-github",
        "colab_type": "text"
      },
      "source": [
        "<a href=\"https://colab.research.google.com/github/sunhuanhuan920/ECE1512_2023F_ProjectRepo_Zhenhuan_Sun/blob/main/Project%20A/Task_1.ipynb\" target=\"_parent\"><img src=\"https://colab.research.google.com/assets/colab-badge.svg\" alt=\"Open In Colab\"/></a>"
      ]
    },
    {
      "cell_type": "markdown",
      "source": [
        "# **Task 1: Knowledge Distillation in MNIST Dataset**"
      ],
      "metadata": {
        "id": "bxVRMZgE_zfI"
      }
    },
    {
      "cell_type": "markdown",
      "source": [
        "# Question 1\n",
        "\n",
        "(a). Transfer the knowledge from a large and cumbersome model to a model that is smaller and more suitable for deployment.\n",
        "\n",
        "(b). The class probabilities produced by the cumbersome model.\n",
        "\n",
        "(c).\n",
        "\n",
        "\\begin{equation}\n",
        "\\lim_{T \\to \\infty} \\frac{\\exp(z_i / T)}{\\sum_j \\exp(z_j / T)} = \\frac{\\exp(0)}{\\sum_j \\exp(0)} = \\frac{1}{K}\n",
        "\\end{equation}\n",
        "\n",
        "where $K$ denotes the number of classes. Thus, from this we can see that $T$ is a scaling factor that will make the probability distribution acorss all classes become closer to a uniform distribution.\n",
        "\n",
        "We use $T$ to soften the probability distribution over classes, so that the class probabilities become less sharp and the differences in probabilities can be smoothed out.\n",
        "\n",
        "By using a large value of $T$, the differences between the probabilities of wrong classes are emphasized, the output class probabilities that used to be very small and have very little impact on the cross-entropy cost function will become larger and have a more pronounced impact on the cost function during knowledge distillation. As a result, during knowledge distillation, the student model focus on learning how to mimic teacher model's behavior to produce similar distribution of probabilities over classes for a same input, or in other words, how to think in the same way as the teacher model does. Through this, the student model will be more capable of learning how the teacher model perceives the difference between classes, and how it generalizes to different data.\n",
        "\n",
        "(d). The loss function comprises two parts, the first part, which is called distillation loss, is defined as\n",
        "\n",
        "\\begin{equation}\n",
        "L^{(distillation)}(\\mathbf{x}|T) = -\\sum_{i=1}^K q_i(\\mathbf{x}|T) \\log(p_i(\\mathbf{x}|T))\n",
        "\\end{equation}\n",
        "\n",
        "where $q_i(\\mathbf{x}|T)$ is the softened probability for class $i$ given input vector $\\mathbf{x}$ and distillation temperature $T$ from the teacher model, and $p_i(\\mathbf{x}|T)$ is the student model's softened probability for class $i$ given same input vector and distillation temperature. Cross entropy is used to measure the difference between the student's softened probability distribution and the teacher's softened probability distribution over all classes.\n",
        "\n",
        "The second part, which is sometimes referred as classification loss, is defined as\n",
        "\n",
        "\\begin{equation}\n",
        "L^{(classification)}(\\mathbf{x}|T=1) = -\\sum_{i=1}^K y_i \\log(p_i(\\mathbf{x}|T=1))\n",
        "\\end{equation}\n",
        "\n",
        "where $y_i$ is the $i$ th element of the one-hot vector. Cross entropy is used to measure the difference between student model's unsoftened ($T = 1$) predicted probability distribution for different classes and the true class probability distribution, e.g., one-hot vector.\n",
        "\n",
        "The combined loss function is defined as\n",
        "\n",
        "\\begin{equation}\n",
        "L(\\mathbf{x}|T) = \\lambda T^2 \\cdot L^{(distillation)}(\\mathbf{x}|T) + (1 - \\lambda) \\cdot L^{(classification)}(\\mathbf{x}|1)\n",
        "\\end{equation}\n",
        "\n",
        "where weight parameter ($\\lambda$), i.e.,task balance parameter, is introduced to combined the distillation loss and classification loss. In addition, the distillation loss is scaled by a factor of $T^2$ in the weighted sum to compensate for the gradient's down scale by a factor of $1/T^2$ due to the present of $T$ in the softmax function.\n",
        "\n",
        "The task balance parameter governs the relative contribution of distillation loss and classification loss in the overall kownledge distillation process. When $\\lambda$ equals to 1, the student model focuses on distillation and is trained only using the kownledge from the teacher model. When $\\lambda$ equals to 0, the student model is trained regularly using labeled data. By adjusting $\\lambda$ between $0$ and $1$, we can control how much of the teacher model's knowledge versus the acutal data we want the student to focus on during its training.\n",
        "\n",
        "(e). The use of soft targets allows student model to account for the relative probabilites of different classes in the teacher model's output and have a deeper understanding of how teacher model thinks and generalizes on different data. Thus, by performing knowledge distillation from teacher model to student model, we are essentially letting teacher model to teach student model how to mimic its behavior to generalize as it does. This is equivalent to the effect of regularization, where we add regularization term to prevent model from memorizing the training data, so that the model can generalize well."
      ],
      "metadata": {
        "id": "i-WydnySDlvu"
      }
    },
    {
      "cell_type": "markdown",
      "source": [
        "# Question 2"
      ],
      "metadata": {
        "id": "2XcbESXuEGT2"
      }
    },
    {
      "cell_type": "markdown",
      "source": [
        "**Load Dataset**"
      ],
      "metadata": {
        "id": "QU86Y4BmBivV"
      }
    },
    {
      "cell_type": "code",
      "execution_count": 1,
      "metadata": {
        "id": "Kx8sbRj3vjNR",
        "colab": {
          "base_uri": "https://localhost:8080/",
          "height": 104,
          "referenced_widgets": [
            "c248b37ace354dada2fe928b3288152c",
            "f2df0dbbbb5743138c63dcf9d202cb1c",
            "0d92b78080194dadbd95875b6f575ae5",
            "ebeff8091387489c963bcace5cfd6abc",
            "c67a330289bb47a09cb78d2420d4e397",
            "afa9b515bd3141a0a05824a37801de0d",
            "ecef6577d63c492ba79821c6126c2b2f",
            "1c087d0ef87d4eae9a0e8cd380311c96",
            "32ec9eaed09e4dccb10664cebc34bd02",
            "c6fcceded5db4f17b78b27b03ea28628",
            "88d92a67ab494b88b99fa2752bcd4043"
          ]
        },
        "outputId": "ed1120d8-11b9-4014-e097-7dea60f667a7"
      },
      "outputs": [
        {
          "output_type": "stream",
          "name": "stdout",
          "text": [
            "Downloading and preparing dataset 11.06 MiB (download: 11.06 MiB, generated: 21.00 MiB, total: 32.06 MiB) to /root/tensorflow_datasets/mnist/3.0.1...\n"
          ]
        },
        {
          "output_type": "display_data",
          "data": {
            "text/plain": [
              "Dl Completed...:   0%|          | 0/5 [00:00<?, ? file/s]"
            ],
            "application/vnd.jupyter.widget-view+json": {
              "version_major": 2,
              "version_minor": 0,
              "model_id": "c248b37ace354dada2fe928b3288152c"
            }
          },
          "metadata": {}
        },
        {
          "output_type": "stream",
          "name": "stdout",
          "text": [
            "Dataset mnist downloaded and prepared to /root/tensorflow_datasets/mnist/3.0.1. Subsequent calls will reuse this data.\n"
          ]
        }
      ],
      "source": [
        "# import tensorflow.compat.v2 as tf\n",
        "import tensorflow as tf\n",
        "import tensorflow_datasets as tfds\n",
        "from typing import Union\n",
        "\n",
        "# tf.enable_v2_behavior()\n",
        "\n",
        "builder = tfds.builder('mnist')\n",
        "BATCH_SIZE = 256\n",
        "NUM_EPOCHS = 12\n",
        "NUM_CLASSES = 10  # 10 total classes.\n",
        "\n",
        "# Load train and test splits.\n",
        "def preprocess(x):\n",
        "  image = tf.image.convert_image_dtype(x['image'], tf.float32)\n",
        "  subclass_labels = tf.one_hot(x['label'], builder.info.features['label'].num_classes)\n",
        "  return image, subclass_labels\n",
        "\n",
        "\n",
        "mnist_train = tfds.load('mnist', split='train', shuffle_files=False).cache()\n",
        "mnist_train = mnist_train.map(preprocess)\n",
        "mnist_train = mnist_train.shuffle(builder.info.splits['train'].num_examples)\n",
        "mnist_train = mnist_train.batch(BATCH_SIZE, drop_remainder=True)\n",
        "\n",
        "mnist_test = tfds.load('mnist', split='test').cache()\n",
        "mnist_test = mnist_test.map(preprocess).batch(BATCH_SIZE)"
      ]
    },
    {
      "cell_type": "code",
      "source": [
        "import matplotlib.pyplot as plt\n",
        "import numpy as np\n",
        "\n",
        "# Take one batch from mnist_train\n",
        "for images, labels in mnist_train.take(1):\n",
        "    plt.figure(figsize=(10, 10))\n",
        "    # Visualize the first 25 images from the batch\n",
        "    for i in range(25):\n",
        "        # print(images[i].shape)\n",
        "        # print(labels[i].shape)\n",
        "        plt.subplot(5, 5, i + 1)\n",
        "        plt.imshow(images[i].numpy().squeeze(), cmap='gray')\n",
        "        plt.title('Label: %d' % tf.argmax(labels[i]))\n",
        "        plt.axis('off')\n",
        "    plt.show()"
      ],
      "metadata": {
        "colab": {
          "base_uri": "https://localhost:8080/",
          "height": 829
        },
        "id": "C5gLXYRCEGl0",
        "outputId": "897df1e0-c6b4-4d04-9b27-225c1729c955"
      },
      "execution_count": 2,
      "outputs": [
        {
          "output_type": "display_data",
          "data": {
            "text/plain": [
              "<Figure size 1000x1000 with 25 Axes>"
            ],
            "image/png": "[encoded data removed]"
          },
          "metadata": {}
        }
      ]
    },
    {
      "cell_type": "markdown",
      "source": [
        "**Model Creation**"
      ],
      "metadata": {
        "id": "rc0Jj5kQGHWB"
      }
    },
    {
      "cell_type": "code",
      "source": [
        "# Build CNN teacher.\n",
        "cnn_model = tf.keras.Sequential([\n",
        "\n",
        "    # Each image in MINIST dataset has shape of (28, 28, 1)\n",
        "    tf.keras.layers.Conv2D(filters=32, kernel_size=(3, 3), strides=(1, 1), activation='relu', input_shape=(28, 28, 1)),\n",
        "\n",
        "    tf.keras.layers.MaxPooling2D(pool_size=(2, 2), strides=(1, 1)),\n",
        "\n",
        "    tf.keras.layers.Conv2D(filters=64, kernel_size=(3,3), strides=(1, 1), activation='relu'),\n",
        "\n",
        "    tf.keras.layers.MaxPooling2D(pool_size=(2, 2), strides=(2, 2)),\n",
        "\n",
        "    tf.keras.layers.Flatten(),\n",
        "\n",
        "    tf.keras.layers.Dropout(rate=0.5),\n",
        "    tf.keras.layers.Dense(units=128, activation='relu'),\n",
        "\n",
        "    tf.keras.layers.Dropout(rate=0.5),\n",
        "    # There are 10 classes in MINIST dataset\n",
        "    tf.keras.layers.Dense(10)\n",
        "])\n",
        "\n",
        "# your code start from here for stpe 2\n",
        "\n",
        "\n",
        "# Build fully connected student.\n",
        "fc_model = tf.keras.Sequential([\n",
        "\n",
        "    tf.keras.layers.Flatten(input_shape=(28, 28, 1)),\n",
        "\n",
        "    tf.keras.layers.Dense(units=784, activation='relu'),\n",
        "\n",
        "    tf.keras.layers.Dense(units=784, activation='relu'),\n",
        "\n",
        "    # There are 10 classes in MINIST dataset\n",
        "    tf.keras.layers.Dense(10)\n",
        "])\n",
        "\n",
        "# your code start from here for step 2"
      ],
      "metadata": {
        "id": "b2XKK6QiGLrN"
      },
      "execution_count": 144,
      "outputs": []
    },
    {
      "cell_type": "markdown",
      "source": [
        "# Question 3"
      ],
      "metadata": {
        "id": "kNWucxEtOBBE"
      }
    },
    {
      "cell_type": "markdown",
      "source": [
        "**Teacher loss function**"
      ],
      "metadata": {
        "id": "Hj4jG0yYOtNM"
      }
    },
    {
      "cell_type": "code",
      "source": [
        "@tf.function\n",
        "def compute_teacher_loss(images, labels):\n",
        "    \"\"\"Compute subclass knowledge distillation teacher loss for given images\n",
        "       and labels.\n",
        "\n",
        "    Args:\n",
        "      images: Tensor representing a batch of images.\n",
        "      labels: Tensor representing a batch of labels.\n",
        "\n",
        "    Returns:\n",
        "      Scalar loss Tensor.\n",
        "    \"\"\"\n",
        "    subclass_logits = cnn_model(images, training=True)\n",
        "\n",
        "    # your code start from here for step 3\n",
        "    # Compute cross-entropy loss for classes.\n",
        "    cross_entropy_loss_value = tf.reduce_mean(\n",
        "        tf.nn.softmax_cross_entropy_with_logits(labels, subclass_logits)\n",
        "    )\n",
        "\n",
        "    return cross_entropy_loss_value"
      ],
      "metadata": {
        "id": "Z7MTHc1mOCqN"
      },
      "execution_count": null,
      "outputs": []
    },
    {
      "cell_type": "markdown",
      "source": [
        "**Student loss function**"
      ],
      "metadata": {
        "id": "qLoMYKOuOyuz"
      }
    },
    {
      "cell_type": "code",
      "source": [
        "# Hyperparameters for distillation (need to be tuned).\n",
        "ALPHA = 0.9 # task balance between cross-entropy and distillation loss\n",
        "DISTILLATION_TEMPERATURE = 20. #temperature hyperparameter\n",
        "\n",
        "def distillation_loss(teacher_logits: tf.Tensor, student_logits: tf.Tensor,\n",
        "                      temperature: Union[float, tf.Tensor]):\n",
        "    \"\"\"Compute distillation loss.\n",
        "\n",
        "    This function computes cross entropy between softened logits and softened\n",
        "    targets. The resulting loss is scaled by the squared temperature so that\n",
        "    the gradient magnitude remains approximately constant as the temperature is\n",
        "    changed. For reference, see Hinton et al., 2014, \"Distilling the knowledge in\n",
        "    a neural network.\"\n",
        "\n",
        "    Args:\n",
        "      teacher_logits: A Tensor of logits provided by the teacher.\n",
        "      student_logits: A Tensor of logits provided by the student, of the same\n",
        "        shape as `teacher_logits`.\n",
        "      temperature: Temperature to use for distillation.\n",
        "\n",
        "    Returns:\n",
        "      A scalar Tensor containing the distillation loss.\n",
        "    \"\"\"\n",
        "    # your code start from here for step 3\n",
        "    soft_targets = tf.nn.softmax(teacher_logits / temperature)\n",
        "\n",
        "    return tf.reduce_mean(\n",
        "        tf.nn.softmax_cross_entropy_with_logits(\n",
        "            soft_targets, student_logits / temperature)) * temperature ** 2\n",
        "\n",
        "def compute_student_loss(images, labels):\n",
        "    \"\"\"Compute subclass knowledge distillation student loss for given images\n",
        "      and labels.\n",
        "\n",
        "    Args:\n",
        "      images: Tensor representing a batch of images.\n",
        "      labels: Tensor representing a batch of labels.\n",
        "\n",
        "    Returns:\n",
        "      Scalar loss Tensor.\n",
        "    \"\"\"\n",
        "    student_subclass_logits = fc_model(images, training=True)\n",
        "\n",
        "    # Compute subclass distillation loss between student subclass logits and\n",
        "    # softened teacher subclass targets probabilities.\n",
        "\n",
        "    # your code start from here for step 3\n",
        "\n",
        "    teacher_subclass_logits = cnn_model(images, training=False)\n",
        "    distillation_loss_value = distillation_loss(teacher_subclass_logits, student_subclass_logits, DISTILLATION_TEMPERATURE)\n",
        "\n",
        "    # Compute cross-entropy loss with hard targets.\n",
        "\n",
        "    # your code start from here for step 3\n",
        "\n",
        "    cross_entropy_loss_value = tf.reduce_mean(\n",
        "        tf.nn.softmax_cross_entropy_with_logits(labels, student_subclass_logits)\n",
        "    )\n",
        "\n",
        "    combined_loss = ALPHA * distillation_loss_value + (1 - ALPHA) * cross_entropy_loss_value\n",
        "\n",
        "    return combined_loss"
      ],
      "metadata": {
        "id": "OKN83rdhOf7m"
      },
      "execution_count": null,
      "outputs": []
    },
    {
      "cell_type": "markdown",
      "source": [
        "# Question 4"
      ],
      "metadata": {
        "id": "MVqzq0qqY1u_"
      }
    },
    {
      "cell_type": "markdown",
      "source": [
        "**Train and evaluation**"
      ],
      "metadata": {
        "id": "1tcgJNa1Y3xx"
      }
    },
    {
      "cell_type": "code",
      "source": [
        "NUM_EPOCHS = 12\n",
        "\n",
        "@tf.function\n",
        "def compute_num_correct(model, images, labels):\n",
        "    \"\"\"Compute number of correctly classified images in a batch.\n",
        "\n",
        "    Args:\n",
        "      model: Instance of tf.keras.Model.\n",
        "      images: Tensor representing a batch of images.\n",
        "      labels: Tensor representing a batch of labels.\n",
        "\n",
        "    Returns:\n",
        "      Number of correctly classified images.\n",
        "    \"\"\"\n",
        "    class_logits = model(images, training=False)\n",
        "    return tf.reduce_sum(\n",
        "        tf.cast(tf.math.equal(tf.argmax(class_logits, -1), tf.argmax(labels, -1)),\n",
        "                tf.float32)), tf.argmax(class_logits, -1), tf.argmax(labels, -1)\n",
        "\n",
        "\n",
        "def train_and_evaluate(model, compute_loss_fn):\n",
        "    \"\"\"Perform training and evaluation for a given model.\n",
        "\n",
        "    Args:\n",
        "      model: Instance of tf.keras.Model.\n",
        "      compute_loss_fn: A function that computes the training loss given the\n",
        "        images, and labels.\n",
        "    \"\"\"\n",
        "\n",
        "    # your code start from here for step 4\n",
        "    # Initialize Adam optimizer with learning rate of 0.001\n",
        "    optimizer = tf.keras.optimizers.Adam(learning_rate=0.001)\n",
        "\n",
        "    for epoch in range(1, NUM_EPOCHS + 1):\n",
        "      # Run training.\n",
        "      print('Epoch {}: '.format(epoch), end='')\n",
        "      for images, labels in mnist_train:\n",
        "        # For backpropagation\n",
        "        # Records the operations performed inside its block to compute gradients\n",
        "        with tf.GradientTape() as tape:\n",
        "          # your code start from here for step 4\n",
        "\n",
        "          # Compute loss\n",
        "          loss_value = compute_loss_fn(images, labels)\n",
        "\n",
        "        # Use the recorded operations to compute the gradients\n",
        "        grads = tape.gradient(loss_value, model.trainable_variables)\n",
        "        optimizer.apply_gradients(zip(grads, model.trainable_variables))\n",
        "\n",
        "      # Run evaluation.\n",
        "      num_correct = 0\n",
        "      num_total = builder.info.splits['test'].num_examples\n",
        "      for images, labels in mnist_test:\n",
        "        # your code start from here for step 4\n",
        "        num_correct_batch, _, _ = compute_num_correct(model, images, labels)\n",
        "        num_correct += num_correct_batch\n",
        "      print(\"Class_accuracy: \" + '{:.2f}%'.format(\n",
        "          num_correct / num_total * 100))"
      ],
      "metadata": {
        "id": "193QKH1OY70J"
      },
      "execution_count": null,
      "outputs": []
    },
    {
      "cell_type": "markdown",
      "source": [
        "# Question 5"
      ],
      "metadata": {
        "id": "CykfmYE3f-50"
      }
    },
    {
      "cell_type": "markdown",
      "source": [
        "**Training models**"
      ],
      "metadata": {
        "id": "jQuBGQEQgAut"
      }
    },
    {
      "cell_type": "code",
      "source": [
        "# your code start from here for step 5\n",
        "\n",
        "# Train teacher model\n",
        "print(\"Training Teacher Model\")\n",
        "train_and_evaluate(cnn_model, compute_teacher_loss)\n",
        "\n",
        "# Train student model\n",
        "print(\"\\nTraining Student Model\")\n",
        "train_and_evaluate(fc_model, compute_student_loss)"
      ],
      "metadata": {
        "colab": {
          "base_uri": "https://localhost:8080/"
        },
        "id": "v1npY-KtgFg9",
        "outputId": "a2c3bc5b-0dfc-44b7-c7ca-b888aef6ff99"
      },
      "execution_count": null,
      "outputs": [
        {
          "output_type": "stream",
          "name": "stdout",
          "text": [
            "Training Teacher Model\n",
            "Epoch 1: "
          ]
        },
        {
          "output_type": "stream",
          "name": "stderr",
          "text": [
            "WARNING:tensorflow:5 out of the last 5 calls to <function _BaseOptimizer._update_step_xla at 0x7d4ed217d3f0> triggered tf.function retracing. Tracing is expensive and the excessive number of tracings could be due to (1) creating @tf.function repeatedly in a loop, (2) passing tensors with different shapes, (3) passing Python objects instead of tensors. For (1), please define your @tf.function outside of the loop. For (2), @tf.function has reduce_retracing=True option that can avoid unnecessary retracing. For (3), please refer to https://www.tensorflow.org/guide/function#controlling_retracing and https://www.tensorflow.org/api_docs/python/tf/function for  more details.\n",
            "WARNING:tensorflow:6 out of the last 6 calls to <function _BaseOptimizer._update_step_xla at 0x7d4ed217d3f0> triggered tf.function retracing. Tracing is expensive and the excessive number of tracings could be due to (1) creating @tf.function repeatedly in a loop, (2) passing tensors with different shapes, (3) passing Python objects instead of tensors. For (1), please define your @tf.function outside of the loop. For (2), @tf.function has reduce_retracing=True option that can avoid unnecessary retracing. For (3), please refer to https://www.tensorflow.org/guide/function#controlling_retracing and https://www.tensorflow.org/api_docs/python/tf/function for  more details.\n"
          ]
        },
        {
          "output_type": "stream",
          "name": "stdout",
          "text": [
            "Class_accuracy: 97.89%\n",
            "Epoch 2: Class_accuracy: 98.60%\n",
            "Epoch 3: Class_accuracy: 98.84%\n",
            "Epoch 4: Class_accuracy: 98.90%\n",
            "Epoch 5: Class_accuracy: 99.02%\n",
            "Epoch 6: Class_accuracy: 99.06%\n",
            "Epoch 7: Class_accuracy: 99.17%\n",
            "Epoch 8: Class_accuracy: 99.09%\n",
            "Epoch 9: Class_accuracy: 99.25%\n",
            "Epoch 10: Class_accuracy: 99.04%\n",
            "Epoch 11: Class_accuracy: 99.24%\n",
            "Epoch 12: Class_accuracy: 99.21%\n",
            "\n",
            "Training Student Model\n",
            "Epoch 1: Class_accuracy: 96.72%\n",
            "Epoch 2: Class_accuracy: 97.71%\n",
            "Epoch 3: Class_accuracy: 98.17%\n",
            "Epoch 4: Class_accuracy: 98.37%\n",
            "Epoch 5: Class_accuracy: 98.52%\n",
            "Epoch 6: Class_accuracy: 98.60%\n",
            "Epoch 7: Class_accuracy: 98.61%\n",
            "Epoch 8: Class_accuracy: 98.71%\n",
            "Epoch 9: Class_accuracy: 98.68%\n",
            "Epoch 10: Class_accuracy: 98.75%\n",
            "Epoch 11: Class_accuracy: 98.80%\n",
            "Epoch 12: Class_accuracy: 98.81%\n"
          ]
        }
      ]
    },
    {
      "cell_type": "markdown",
      "source": [
        "# Question 6"
      ],
      "metadata": {
        "id": "gt2A8VDkzd0-"
      }
    },
    {
      "cell_type": "markdown",
      "source": [
        "**Test accuracy vs. tempreture curve**"
      ],
      "metadata": {
        "id": "T0kiLb6Vzm4P"
      }
    },
    {
      "cell_type": "code",
      "source": [
        "# I modified the train_and_evaluate function to save and return the class accuracies\n",
        "# obtained during evalution for all epoches\n",
        "def train_and_evaluate_2(model, compute_loss_fn):\n",
        "    \"\"\"Perform training and evaluation for a given model.\n",
        "\n",
        "    Args:\n",
        "      model: Instance of tf.keras.Model.\n",
        "      compute_loss_fn: A function that computes the training loss given the\n",
        "        images, and labels.\n",
        "\n",
        "    Returns:\n",
        "      List of evaluation accuracies for each epoch.\n",
        "    \"\"\"\n",
        "    epoch_accuracies = []\n",
        "\n",
        "    # Initialize Adam optimizer with learning rate of 0.001\n",
        "    optimizer = tf.keras.optimizers.Adam(learning_rate=0.001)\n",
        "\n",
        "    for epoch in range(1, NUM_EPOCHS + 1):\n",
        "        # Run training.\n",
        "        print('Epoch {}: '.format(epoch), end='')\n",
        "        for images, labels in mnist_train:\n",
        "            with tf.GradientTape() as tape:\n",
        "                loss_value = compute_loss_fn(images, labels)\n",
        "\n",
        "            grads = tape.gradient(loss_value, model.trainable_variables)\n",
        "            optimizer.apply_gradients(zip(grads, model.trainable_variables))\n",
        "\n",
        "        # Run evaluation.\n",
        "        num_correct = 0\n",
        "        num_total = builder.info.splits['test'].num_examples\n",
        "        for images, labels in mnist_test:\n",
        "            num_correct_batch, _, _ = compute_num_correct(model, images, labels)\n",
        "            num_correct += num_correct_batch\n",
        "        accuracy = num_correct / num_total\n",
        "        epoch_accuracies.append(accuracy)\n",
        "        print(\"Class_accuracy: \" + '{:.2f}%'.format(accuracy * 100))\n",
        "\n",
        "    return epoch_accuracies"
      ],
      "metadata": {
        "id": "eqLqmYwRRcrX"
      },
      "execution_count": null,
      "outputs": []
    },
    {
      "cell_type": "code",
      "source": [
        "ALPHA = 0.5\n",
        "temperatures = [1, 2, 4, 16, 32, 64]\n",
        "accuracies = []\n",
        "\n",
        "for T in temperatures:\n",
        "    # Set global DISTILLATION_TEMPERATURE\n",
        "    DISTILLATION_TEMPERATURE = T\n",
        "\n",
        "    # Train and evaluate student model\n",
        "    print(f\"\\nTraining the student model with T = {T}...\")\n",
        "    epoch_accuracies = train_and_evaluate_2(fc_model, compute_student_loss)\n",
        "\n",
        "    # Compute the average accuracy over all epochs for this temperature\n",
        "    avg_accuracy = sum(epoch_accuracies) / len(epoch_accuracies)\n",
        "    accuracies.append(avg_accuracy)\n",
        "    print(f\"Average Test accuracy for T={T}: {avg_accuracy:.5f}\")\n",
        "\n",
        "# Plotting the curve\n",
        "plt.figure(figsize=(10, 5))\n",
        "plt.plot(temperatures, accuracies, marker='o')\n",
        "plt.xlabel('Temperature T')\n",
        "plt.ylabel('Average Student Test Accuracy')\n",
        "plt.title('Average Student Test Accuracy vs. Temperature Hyperparameter')\n",
        "plt.grid(True)\n",
        "plt.xticks(temperatures) # Set x-ticks to the specified temperatures only\n",
        "plt.show()"
      ],
      "metadata": {
        "colab": {
          "base_uri": "https://localhost:8080/",
          "height": 1000
        },
        "id": "SI9zRCaOzopS",
        "outputId": "d71607dc-d470-4aa8-a198-f857c3dcca6d"
      },
      "execution_count": null,
      "outputs": [
        {
          "output_type": "stream",
          "name": "stdout",
          "text": [
            "\n",
            "Training the student model with T = 1...\n",
            "Epoch 1: Class_accuracy: 98.44%\n",
            "Epoch 2: Class_accuracy: 98.79%\n",
            "Epoch 3: Class_accuracy: 98.76%\n",
            "Epoch 4: Class_accuracy: 98.59%\n",
            "Epoch 5: Class_accuracy: 98.43%\n",
            "Epoch 6: Class_accuracy: 98.75%\n",
            "Epoch 7: Class_accuracy: 98.83%\n",
            "Epoch 8: Class_accuracy: 98.72%\n",
            "Epoch 9: Class_accuracy: 98.80%\n",
            "Epoch 10: Class_accuracy: 98.78%\n",
            "Epoch 11: Class_accuracy: 98.74%\n",
            "Epoch 12: Class_accuracy: 98.65%\n",
            "Average Test accuracy for T=1: 0.98690\n",
            "\n",
            "Training the student model with T = 2...\n",
            "Epoch 1: Class_accuracy: 98.64%\n",
            "Epoch 2: Class_accuracy: 98.66%\n",
            "Epoch 3: Class_accuracy: 98.88%\n",
            "Epoch 4: Class_accuracy: 98.82%\n",
            "Epoch 5: Class_accuracy: 98.94%\n",
            "Epoch 6: Class_accuracy: 98.81%\n",
            "Epoch 7: Class_accuracy: 98.82%\n",
            "Epoch 8: Class_accuracy: 98.88%\n",
            "Epoch 9: Class_accuracy: 98.74%\n",
            "Epoch 10: Class_accuracy: 98.85%\n",
            "Epoch 11: Class_accuracy: 98.93%\n",
            "Epoch 12: Class_accuracy: 98.96%\n",
            "Average Test accuracy for T=2: 0.98827\n",
            "\n",
            "Training the student model with T = 4...\n",
            "Epoch 1: Class_accuracy: 98.94%\n",
            "Epoch 2: Class_accuracy: 98.95%\n",
            "Epoch 3: Class_accuracy: 98.99%\n",
            "Epoch 4: Class_accuracy: 98.95%\n",
            "Epoch 5: Class_accuracy: 98.92%\n",
            "Epoch 6: Class_accuracy: 98.97%\n",
            "Epoch 7: Class_accuracy: 98.95%\n",
            "Epoch 8: Class_accuracy: 98.99%\n",
            "Epoch 9: Class_accuracy: 99.00%\n",
            "Epoch 10: Class_accuracy: 99.00%\n",
            "Epoch 11: Class_accuracy: 98.97%\n",
            "Epoch 12: Class_accuracy: 99.00%\n",
            "Average Test accuracy for T=4: 0.98969\n",
            "\n",
            "Training the student model with T = 16...\n",
            "Epoch 1: Class_accuracy: 99.02%\n",
            "Epoch 2: Class_accuracy: 99.01%\n",
            "Epoch 3: Class_accuracy: 98.98%\n",
            "Epoch 4: Class_accuracy: 99.04%\n",
            "Epoch 5: Class_accuracy: 99.04%\n",
            "Epoch 6: Class_accuracy: 99.01%\n",
            "Epoch 7: Class_accuracy: 99.08%\n",
            "Epoch 8: Class_accuracy: 99.03%\n",
            "Epoch 9: Class_accuracy: 99.04%\n",
            "Epoch 10: Class_accuracy: 99.06%\n",
            "Epoch 11: Class_accuracy: 99.07%\n",
            "Epoch 12: Class_accuracy: 99.03%\n",
            "Average Test accuracy for T=16: 0.99034\n",
            "\n",
            "Training the student model with T = 32...\n",
            "Epoch 1: Class_accuracy: 99.09%\n",
            "Epoch 2: Class_accuracy: 99.08%\n",
            "Epoch 3: Class_accuracy: 99.07%\n",
            "Epoch 4: Class_accuracy: 99.05%\n",
            "Epoch 5: Class_accuracy: 99.04%\n",
            "Epoch 6: Class_accuracy: 99.00%\n",
            "Epoch 7: Class_accuracy: 99.06%\n",
            "Epoch 8: Class_accuracy: 99.09%\n",
            "Epoch 9: Class_accuracy: 99.04%\n",
            "Epoch 10: Class_accuracy: 99.05%\n",
            "Epoch 11: Class_accuracy: 99.06%\n",
            "Epoch 12: Class_accuracy: 99.04%\n",
            "Average Test accuracy for T=32: 0.99056\n",
            "\n",
            "Training the student model with T = 64...\n",
            "Epoch 1: Class_accuracy: 99.06%\n",
            "Epoch 2: Class_accuracy: 99.01%\n",
            "Epoch 3: Class_accuracy: 99.03%\n",
            "Epoch 4: Class_accuracy: 99.08%\n",
            "Epoch 5: Class_accuracy: 99.04%\n",
            "Epoch 6: Class_accuracy: 99.02%\n",
            "Epoch 7: Class_accuracy: 99.06%\n",
            "Epoch 8: Class_accuracy: 99.02%\n",
            "Epoch 9: Class_accuracy: 99.05%\n",
            "Epoch 10: Class_accuracy: 99.04%\n",
            "Epoch 11: Class_accuracy: 98.99%\n",
            "Epoch 12: Class_accuracy: 99.07%\n",
            "Average Test accuracy for T=64: 0.99039\n"
          ]
        },
        {
          "output_type": "display_data",
          "data": {
            "text/plain": [
              "<Figure size 1000x500 with 1 Axes>"
            ],
            "image/png": "[encoded data removed]"
          },
          "metadata": {}
        }
      ]
    },
    {
      "cell_type": "markdown",
      "source": [
        "The plot indicates that, in general, as the value of temperature hyperparameter increases, the average test accuracy over all epoches also increases. This align with our expectations as increasing temperature $T$ will allow student model to learn more from the teacher model about how it generalizes. Thus, the test accuracies increase accordingly."
      ],
      "metadata": {
        "id": "-c_QyghEBc6U"
      }
    },
    {
      "cell_type": "markdown",
      "source": [
        "# Question 7"
      ],
      "metadata": {
        "id": "UhltWuU_D_22"
      }
    },
    {
      "cell_type": "markdown",
      "source": [
        "**Train student from scratch**"
      ],
      "metadata": {
        "id": "Uc-VCfNXEIpL"
      }
    },
    {
      "cell_type": "code",
      "source": [
        "# Build fully connected student.\n",
        "fc_model_no_distillation = tf.keras.Sequential([\n",
        "\n",
        "    tf.keras.layers.Flatten(input_shape=(28, 28, 1)),\n",
        "\n",
        "    tf.keras.layers.Dense(units=784, activation='relu'),\n",
        "\n",
        "    tf.keras.layers.Dense(units=784, activation='relu'),\n",
        "\n",
        "    # There are 10 classes in MINIST dataset\n",
        "    tf.keras.layers.Dense(10)\n",
        "])\n",
        "\n",
        "# your code start from here for step 7\n",
        "\n",
        "def compute_plain_cross_entropy_loss(images, labels):\n",
        "  \"\"\"Compute plain loss for given images and labels.\n",
        "\n",
        "  For fair comparison and convenience, this function also performs a\n",
        "  LogSumExp over subclasses, but does not perform subclass distillation.\n",
        "\n",
        "  Args:\n",
        "    images: Tensor representing a batch of images.\n",
        "    labels: Tensor representing a batch of labels.\n",
        "\n",
        "  Returns:\n",
        "    Scalar loss Tensor.\n",
        "  \"\"\"\n",
        "  # your code start from here for step 7\n",
        "\n",
        "  student_subclass_logits = fc_model_no_distillation(images, training=True)\n",
        "  cross_entropy_loss = tf.reduce_mean(\n",
        "        tf.nn.softmax_cross_entropy_with_logits(labels, student_subclass_logits)\n",
        "  )\n",
        "\n",
        "  return cross_entropy_loss\n",
        "\n",
        "train_and_evaluate(fc_model_no_distillation, compute_plain_cross_entropy_loss)"
      ],
      "metadata": {
        "colab": {
          "base_uri": "https://localhost:8080/"
        },
        "id": "LLjiDoozEFN0",
        "outputId": "39b906fc-cda2-4d18-d700-dfcb6ccc452f"
      },
      "execution_count": null,
      "outputs": [
        {
          "output_type": "stream",
          "name": "stdout",
          "text": [
            "Epoch 1: Class_accuracy: 96.58%\n",
            "Epoch 2: Class_accuracy: 96.96%\n",
            "Epoch 3: Class_accuracy: 98.15%\n",
            "Epoch 4: Class_accuracy: 97.96%\n",
            "Epoch 5: Class_accuracy: 98.16%\n",
            "Epoch 6: Class_accuracy: 97.86%\n",
            "Epoch 7: Class_accuracy: 98.18%\n",
            "Epoch 8: Class_accuracy: 98.05%\n",
            "Epoch 9: Class_accuracy: 98.17%\n",
            "Epoch 10: Class_accuracy: 98.18%\n",
            "Epoch 11: Class_accuracy: 98.06%\n",
            "Epoch 12: Class_accuracy: 97.96%\n"
          ]
        }
      ]
    },
    {
      "cell_type": "markdown",
      "source": [
        "The student model with knowledge distillation outperform the student model without knowledge distillation in terms of test accuracy by a small margin."
      ],
      "metadata": {
        "id": "fZTNBwx5spz7"
      }
    },
    {
      "cell_type": "markdown",
      "source": [
        "# Question 8"
      ],
      "metadata": {
        "id": "SH_Q75eQs3jH"
      }
    },
    {
      "cell_type": "markdown",
      "source": [
        "**Comparing the teacher and student model (number of of parameters)**"
      ],
      "metadata": {
        "id": "Kerk7TFFs6t-"
      }
    },
    {
      "cell_type": "code",
      "source": [
        "# Number of parameter comparison\n",
        "params_teacher_model = cnn_model.count_params()\n",
        "params_student_model = fc_model.count_params()\n",
        "\n",
        "labels = ['Teacher model', 'Student model']\n",
        "params = [params_teacher_model, params_student_model]\n",
        "\n",
        "x = range(len(labels))\n",
        "\n",
        "# Create bar plot\n",
        "bars = plt.bar(x, params, width=0.4, label='Number of Parameters', color='b', align='center')\n",
        "\n",
        "# Add exact numbers on top of bars\n",
        "for bar in bars:\n",
        "    yval = bar.get_height()\n",
        "    plt.text(bar.get_x() + bar.get_width()/2, yval + 0.005 * max(params), round(yval, 2), ha='center', va='bottom')\n",
        "\n",
        "plt.xlabel('Models')\n",
        "plt.title('Number of parameter comparison')\n",
        "plt.xticks(x, labels)\n",
        "plt.legend()\n",
        "plt.show()"
      ],
      "metadata": {
        "colab": {
          "base_uri": "https://localhost:8080/",
          "height": 472
        },
        "id": "TPJ__eHJtDxZ",
        "outputId": "f778ed91-d097-46f1-d6b3-e950915f22da"
      },
      "execution_count": null,
      "outputs": [
        {
          "output_type": "display_data",
          "data": {
            "text/plain": [
              "<Figure size 640x480 with 1 Axes>"
            ],
            "image/png": "[encoded data removed]"
          },
          "metadata": {}
        }
      ]
    },
    {
      "cell_type": "markdown",
      "source": [
        "**Comparing the teacher and student model (FLOPs)**\n",
        "\n",
        "Reference:\n",
        "\n",
        "[1] Tokusumi. (2020). keras-flops. GitHub. https://github.com/tokusumi/keras-flops"
      ],
      "metadata": {
        "id": "7Ddu4LtAJQaS"
      }
    },
    {
      "cell_type": "code",
      "source": [
        "# [1]\n",
        "from typing import Optional, Union\n",
        "import tensorflow as tf\n",
        "from tensorflow.python.framework.convert_to_constants import (\n",
        "    convert_variables_to_constants_v2_as_graph,\n",
        ")\n",
        "\n",
        "from tensorflow.keras import Sequential, Model\n",
        "import logging\n",
        "tf.get_logger().setLevel(logging.ERROR)\n",
        "\n",
        "# import keras_flops.flops_registory\n",
        "\n",
        "def get_flops(model: Union[Model, Sequential], batch_size: Optional[int] = None) -> int:\n",
        "    \"\"\"\n",
        "    Calculate FLOPS for tf.keras.Model or tf.keras.Sequential .\n",
        "    Ignore operations used in only training mode such as Initialization.\n",
        "    Use tf.profiler of tensorflow v1 api.\n",
        "    \"\"\"\n",
        "    if not isinstance(model, (Sequential, Model)):\n",
        "        raise KeyError(\n",
        "            \"model arguments must be tf.keras.Model or tf.keras.Sequential instanse\"\n",
        "        )\n",
        "\n",
        "    if batch_size is None:\n",
        "        batch_size = 1\n",
        "\n",
        "    # convert tf.keras model into frozen graph to count FLOPS about operations used at inference\n",
        "    # FLOPS depends on batch size\n",
        "    inputs = [\n",
        "        tf.TensorSpec([batch_size] + inp.shape[1:], inp.dtype) for inp in model.inputs\n",
        "    ]\n",
        "    real_model = tf.function(model).get_concrete_function(inputs)\n",
        "    frozen_func, _ = convert_variables_to_constants_v2_as_graph(real_model)\n",
        "\n",
        "    # Calculate FLOPS with tf.profiler\n",
        "    run_meta = tf.compat.v1.RunMetadata()\n",
        "    opts = tf.compat.v1.profiler.ProfileOptionBuilder.float_operation()\n",
        "    flops = tf.compat.v1.profiler.profile(\n",
        "        graph=frozen_func.graph, run_meta=run_meta, cmd=\"scope\", options=opts\n",
        "    )\n",
        "    # print(frozen_func.graph.get_operations())\n",
        "    # TODO: show each FLOPS\n",
        "    return flops.total_float_ops"
      ],
      "metadata": {
        "id": "bAnAUhfKGVPe"
      },
      "execution_count": null,
      "outputs": []
    },
    {
      "cell_type": "code",
      "source": [
        "# Calculate FLOPs for each model\n",
        "cnn_flops = get_flops(cnn_model)\n",
        "fc_flops = get_flops(fc_model)\n",
        "\n",
        "print(\"FLOPs for CNN model: {:,}\".format(cnn_flops))\n",
        "print(\"FLOPs for FC model: {:,}\".format(fc_flops))\n",
        "\n",
        "labels = ['Teacher model', 'Student model']\n",
        "flops = [cnn_flops, fc_flops]\n",
        "\n",
        "x = range(len(labels))\n",
        "\n",
        "# Create bar plot\n",
        "bars = plt.bar(x, flops, width=0.4, label='FLOPs', color='r', align='center')\n",
        "\n",
        "# Add exact numbers on top of bars\n",
        "for bar in bars:\n",
        "    yval = bar.get_height()\n",
        "    plt.text(bar.get_x() + bar.get_width()/2, yval + 0.005 * max(flops), f'{yval:.2e}', ha='center', va='bottom')\n",
        "\n",
        "plt.xlabel('Models')\n",
        "plt.title('FLOPs comparison')\n",
        "plt.xticks(x, labels)\n",
        "plt.legend()\n",
        "plt.show()"
      ],
      "metadata": {
        "colab": {
          "base_uri": "https://localhost:8080/",
          "height": 507
        },
        "id": "umOXzNozz5ty",
        "outputId": "bb4cfb79-afa1-428a-ee71-1bf88783c95a"
      },
      "execution_count": null,
      "outputs": [
        {
          "output_type": "stream",
          "name": "stdout",
          "text": [
            "FLOPs for CNN model: 22,042,058\n",
            "FLOPs for FC model: 2,475,882\n"
          ]
        },
        {
          "output_type": "display_data",
          "data": {
            "text/plain": [
              "<Figure size 640x480 with 1 Axes>"
            ],
            "image/png": "[encoded data removed]"
          },
          "metadata": {}
        }
      ]
    },
    {
      "cell_type": "markdown",
      "source": [
        "Even though that the student model has more parameters than the teacher model, it requires significantly fewer floating-point operations to make inference. This is also expected since the student model has relatively simpler architecture."
      ],
      "metadata": {
        "id": "6-EvtFcF1WA0"
      }
    },
    {
      "cell_type": "markdown",
      "source": [
        "# Question 9 ~ 11\n",
        "\n",
        "The paper I chose to read is:\n",
        "\n",
        "[]"
      ],
      "metadata": {
        "id": "BcB_P_O0LSYy"
      }
    },
    {
      "cell_type": "markdown",
      "source": [
        "# Question 12"
      ],
      "metadata": {
        "id": "0wCYytouM56o"
      }
    },
    {
      "cell_type": "markdown",
      "source": [
        "**Implementing the state-of-the-art KD algorithm**"
      ],
      "metadata": {
        "id": "YF7eNmIgM9H1"
      }
    },
    {
      "cell_type": "markdown",
      "source": [
        "**Model Creation**"
      ],
      "metadata": {
        "id": "IS03ElrDXyxp"
      }
    },
    {
      "cell_type": "code",
      "source": [
        "# The number of subclasses per class (Hyperparameter)\n",
        "NUM_SUBCLASSES_PER_CLASS = 5\n",
        "\n",
        "# Build CNN teacher.\n",
        "# Adjust the last layer of teacher model to output a number of c * s logits\n",
        "cnn_model = tf.keras.Sequential([\n",
        "\n",
        "    # Each image in MINIST dataset has shape of (28, 28, 1)\n",
        "    tf.keras.layers.Conv2D(filters=32, kernel_size=(3, 3), strides=(1, 1), activation='relu', input_shape=(28, 28, 1)),\n",
        "\n",
        "    tf.keras.layers.MaxPooling2D(pool_size=(2, 2), strides=(1, 1)),\n",
        "\n",
        "    tf.keras.layers.Conv2D(filters=64, kernel_size=(3,3), strides=(1, 1), activation='relu'),\n",
        "\n",
        "    tf.keras.layers.MaxPooling2D(pool_size=(2, 2), strides=(2, 2)),\n",
        "\n",
        "    tf.keras.layers.Flatten(),\n",
        "\n",
        "    tf.keras.layers.Dropout(rate=0.5),\n",
        "    tf.keras.layers.Dense(units=128, activation='relu'),\n",
        "\n",
        "    tf.keras.layers.Dropout(rate=0.5),\n",
        "    # There are 10 classes in MINIST dataset\n",
        "    # In total, there are 10 * NUM_SUBCLASSES_PER_CLASS subclasses\n",
        "    tf.keras.layers.Dense(10 * NUM_SUBCLASSES_PER_CLASS)\n",
        "])\n",
        "\n",
        "# Build fully connected student.\n",
        "fc_model = tf.keras.Sequential([\n",
        "\n",
        "    tf.keras.layers.Flatten(input_shape=(28, 28, 1)),\n",
        "\n",
        "    tf.keras.layers.Dense(units=784, activation='relu'),\n",
        "\n",
        "    tf.keras.layers.Dense(units=784, activation='relu'),\n",
        "\n",
        "    # There are 10 classes in MINIST dataset\n",
        "    # In total, there are 10 * NUM_SUBCLASSES_PER_CLASS subclasses\n",
        "    tf.keras.layers.Dense(10 * NUM_SUBCLASSES_PER_CLASS)\n",
        "])\n",
        "\n",
        "# your code start from here for stpe 2"
      ],
      "metadata": {
        "id": "vba2npJkM_WR"
      },
      "execution_count": 2,
      "outputs": []
    },
    {
      "cell_type": "markdown",
      "source": [
        "**Teacher loss function for subclass distillation**"
      ],
      "metadata": {
        "id": "jRWNcuGjX1xt"
      }
    },
    {
      "cell_type": "code",
      "source": [
        "@tf.function\n",
        "def compute_teacher_loss(images, labels):\n",
        "    \"\"\"Compute subclass knowledge distillation teacher loss for given images\n",
        "       and labels.\n",
        "\n",
        "    Args:\n",
        "      images: Tensor representing a batch of images.\n",
        "      labels: Tensor representing a batch of labels.\n",
        "\n",
        "    Returns:\n",
        "      Scalar loss Tensor.\n",
        "    \"\"\"\n",
        "    # It has shape [batch size, c x s]\n",
        "    subclass_logits = cnn_model(images, training=True)\n",
        "\n",
        "    # Compute softmax probabilities across all classes and subclasses.\n",
        "    softmax_probs = tf.nn.softmax(subclass_logits)\n",
        "\n",
        "    # Reshape probabilities to [batch_size, c, s].\n",
        "    softmax_probs = tf.reshape(softmax_probs, [-1, 10, NUM_SUBCLASSES_PER_CLASS])\n",
        "\n",
        "    # Compute the sum of softmax probabilities across the subclasses for each class.\n",
        "    # The resulting shape is [batch_size, c]\n",
        "    summed_probs = tf.reduce_sum(softmax_probs, axis=-1)\n",
        "    # print(summed_probs)\n",
        "    # tf.print(summed_probs)\n",
        "\n",
        "    # Compute the cross-entropy loss using the summed probabilities.\n",
        "    cross_entropy_loss = -tf.math.reduce_mean(tf.reduce_sum(labels * tf.math.log(summed_probs + 1e-9), axis=-1))\n",
        "\n",
        "    # Normalize the logits\n",
        "    mean, variance = tf.nn.moments(subclass_logits, axes=[1], keepdims=True)\n",
        "    normalized_subclass_logits = (subclass_logits - mean) / tf.sqrt(variance + 1e-9)\n",
        "    # print(normalized_subclass_logits)\n",
        "\n",
        "    batch_size = tf.shape(normalized_subclass_logits)[0]\n",
        "    T = 1.0\n",
        "\n",
        "    # Compute the temperature-scaled logits product matrix\n",
        "    logits_product_matrix = tf.matmul(normalized_subclass_logits, tf.transpose(normalized_subclass_logits)) / T\n",
        "\n",
        "    # Compute the exponentiated logits product matrix\n",
        "    exp_logits_product_matrix = tf.exp(logits_product_matrix)\n",
        "\n",
        "    # Compute the numerators: diagonal elements of the matrix represent e^{\\vec{v_i}^T\\vec{v_i}/T}\n",
        "    numerators = tf.linalg.diag_part(exp_logits_product_matrix)\n",
        "\n",
        "    # Compute the denominators: mean of each row\n",
        "    denominators = tf.reduce_mean(exp_logits_product_matrix, axis=-1)\n",
        "\n",
        "    # Compute the auxiliary loss for each vector in the batch\n",
        "    aux_losses = -tf.math.log(numerators / denominators)\n",
        "\n",
        "    # Compute the mean auxiliary loss across the batch\n",
        "    L_aux = tf.reduce_mean(aux_losses)\n",
        "\n",
        "    beta = 1.0\n",
        "    total_loss = cross_entropy_loss + beta * L_aux\n",
        "\n",
        "    return total_loss"
      ],
      "metadata": {
        "id": "YupFNQPLPNLs"
      },
      "execution_count": 3,
      "outputs": []
    },
    {
      "cell_type": "markdown",
      "source": [
        "**Student loss function for subclass distillation**"
      ],
      "metadata": {
        "id": "oRP4bOkSX9Ho"
      }
    },
    {
      "cell_type": "code",
      "source": [
        "# Hyperparameters for distillation (need to be tuned).\n",
        "ALPHA = 0.9 # task balance between cross-entropy and distillation loss\n",
        "DISTILLATION_TEMPERATURE = 20. #temperature hyperparameter\n",
        "\n",
        "def distillation_loss(teacher_logits: tf.Tensor, student_logits: tf.Tensor,\n",
        "                      temperature: Union[float, tf.Tensor]):\n",
        "    \"\"\"\n",
        "    Args:\n",
        "      teacher_logits: A Tensor of logits provided by the teacher.\n",
        "      student_logits: A Tensor of logits provided by the student, of the same\n",
        "        shape as `teacher_logits`.\n",
        "      temperature: Temperature to use for distillation.\n",
        "\n",
        "    Returns:\n",
        "      A scalar Tensor containing the distillation loss.\n",
        "    \"\"\"\n",
        "\n",
        "    # Soft targets from teacher logits\n",
        "    teacher_softmax_probs = tf.nn.softmax(teacher_logits / temperature)\n",
        "    teacher_softmax_probs = tf.reshape(teacher_softmax_probs, [-1, 10, NUM_SUBCLASSES_PER_CLASS])\n",
        "\n",
        "    # Probabilities from student logits\n",
        "    student_softmax_probs = tf.nn.softmax(student_logits / temperature)\n",
        "    student_softmax_probs = tf.reshape(student_softmax_probs, [-1, 10, NUM_SUBCLASSES_PER_CLASS])\n",
        "\n",
        "    # Compute the distillation loss term for each example, class, and subclass\n",
        "    loss_terms = teacher_softmax_probs * tf.math.log(student_softmax_probs + 1e-9)\n",
        "\n",
        "    # Sum over all examples, classes, and subclasses\n",
        "    distillation_loss = -temperature ** 2 * tf.math.reduce_mean(tf.reduce_sum(loss_terms, axis=[1, 2]))\n",
        "\n",
        "    return distillation_loss\n",
        "\n",
        "def compute_student_loss(images, labels):\n",
        "    \"\"\"Compute subclass knowledge distillation student loss for given images\n",
        "      and labels.\n",
        "\n",
        "    Args:\n",
        "      images: Tensor representing a batch of images.\n",
        "      labels: Tensor representing a batch of labels.\n",
        "\n",
        "    Returns:\n",
        "      Scalar loss Tensor.\n",
        "    \"\"\"\n",
        "    student_subclass_logits = fc_model(images, training=True)\n",
        "\n",
        "    # Compute subclass distillation loss between student subclass logits and\n",
        "    # softened teacher subclass targets probabilities.\n",
        "\n",
        "    # your code start from here for step 3\n",
        "\n",
        "    teacher_subclass_logits = cnn_model(images, training=False)\n",
        "    distillation_loss_value = distillation_loss(teacher_subclass_logits, student_subclass_logits, DISTILLATION_TEMPERATURE)\n",
        "\n",
        "    # Compute cross-entropy loss with hard targets.\n",
        "    softmax_probs = tf.nn.softmax(student_subclass_logits)\n",
        "    softmax_probs = tf.reshape(softmax_probs, [-1, 10, NUM_SUBCLASSES_PER_CLASS])\n",
        "    summed_probs = tf.reduce_sum(softmax_probs, axis=-1)\n",
        "\n",
        "    # Compute the cross-entropy loss using the summed probabilities.\n",
        "    cross_entropy_loss_value = -tf.math.reduce_mean(tf.reduce_sum(labels * tf.math.log(summed_probs + 1e-9), axis=-1))\n",
        "\n",
        "    combined_loss = ALPHA * distillation_loss_value + (1 - ALPHA) * cross_entropy_loss_value\n",
        "\n",
        "    return combined_loss"
      ],
      "metadata": {
        "id": "1JtawCkHYBod"
      },
      "execution_count": 4,
      "outputs": []
    },
    {
      "cell_type": "markdown",
      "source": [
        "**Train and evaluation for subclass distillation**"
      ],
      "metadata": {
        "id": "aXIknkMyYIrw"
      }
    },
    {
      "cell_type": "code",
      "source": [
        "NUM_EPOCHS = 12\n",
        "\n",
        "@tf.function\n",
        "def compute_num_correct(model, images, labels):\n",
        "    \"\"\"Compute number of correctly classified images in a batch.\n",
        "\n",
        "    Args:\n",
        "      model: Instance of tf.keras.Model.\n",
        "      images: Tensor representing a batch of images.\n",
        "      labels: Tensor representing a batch of labels.\n",
        "\n",
        "    Returns:\n",
        "      Number of correctly classified images.\n",
        "    \"\"\"\n",
        "    subclass_logits = model(images, training=False)\n",
        "\n",
        "    # Compute softmax probabilities across all classes and subclasses.\n",
        "    softmax_probs = tf.nn.softmax(subclass_logits)\n",
        "\n",
        "    # Reshape probabilities to [batch_size, c, s].\n",
        "    softmax_probs = tf.reshape(softmax_probs, [-1, 10, NUM_SUBCLASSES_PER_CLASS])\n",
        "\n",
        "    # Compute the sum of softmax probabilities across the subclasses for each class.\n",
        "    class_probs = tf.reduce_sum(softmax_probs, axis=-1)\n",
        "\n",
        "    return tf.reduce_sum(\n",
        "        tf.cast(tf.math.equal(tf.argmax(class_probs, -1), tf.argmax(labels, -1)),\n",
        "                tf.float32)), tf.argmax(class_probs, -1), tf.argmax(labels, -1)\n",
        "\n",
        "\n",
        "def train_and_evaluate(model, compute_loss_fn):\n",
        "    \"\"\"Perform training and evaluation for a given model.\n",
        "\n",
        "    Args:\n",
        "      model: Instance of tf.keras.Model.\n",
        "      compute_loss_fn: A function that computes the training loss given the\n",
        "        images, and labels.\n",
        "    \"\"\"\n",
        "\n",
        "    # your code start from here for step 4\n",
        "    # Initialize Adam optimizer with learning rate of 0.001\n",
        "    optimizer = tf.keras.optimizers.Adam(learning_rate=0.001)\n",
        "\n",
        "    for epoch in range(1, NUM_EPOCHS + 1):\n",
        "      # Run training.\n",
        "      print('Epoch {}: '.format(epoch), end='')\n",
        "      for images, labels in mnist_train:\n",
        "        # For backpropagation\n",
        "        # Records the operations performed inside its block to compute gradients\n",
        "        with tf.GradientTape() as tape:\n",
        "          # your code start from here for step 4\n",
        "\n",
        "          # Compute loss\n",
        "          loss_value = compute_loss_fn(images, labels)\n",
        "\n",
        "        # Use the recorded operations to compute the gradients\n",
        "        grads = tape.gradient(loss_value, model.trainable_variables)\n",
        "        optimizer.apply_gradients(zip(grads, model.trainable_variables))\n",
        "\n",
        "      # Run evaluation.\n",
        "      num_correct = 0\n",
        "      num_total = builder.info.splits['test'].num_examples\n",
        "      for images, labels in mnist_test:\n",
        "        # your code start from here for step 4\n",
        "        num_correct_batch, _, _ = compute_num_correct(model, images, labels)\n",
        "        num_correct += num_correct_batch\n",
        "      print(\"Class_accuracy: \" + '{:.2f}%'.format(\n",
        "          num_correct / num_total * 100))"
      ],
      "metadata": {
        "id": "JHYcVJ8FSpIs"
      },
      "execution_count": 5,
      "outputs": []
    },
    {
      "cell_type": "markdown",
      "source": [
        "**Training models for subclass distillation**"
      ],
      "metadata": {
        "id": "6fXtRa8bYPLQ"
      }
    },
    {
      "cell_type": "code",
      "source": [
        "# Train teacher model\n",
        "print(\"Training Teacher Model\")\n",
        "train_and_evaluate(cnn_model, compute_teacher_loss)\n",
        "\n",
        "# Train student model\n",
        "print(\"\\nTraining Student Model\")\n",
        "train_and_evaluate(fc_model, compute_student_loss)"
      ],
      "metadata": {
        "colab": {
          "base_uri": "https://localhost:8080/"
        },
        "id": "i2GLOLhQTFx8",
        "outputId": "7585b6d4-da83-409f-a6b6-3dde087ccd86"
      },
      "execution_count": 7,
      "outputs": [
        {
          "output_type": "stream",
          "name": "stdout",
          "text": [
            "Training Teacher Model\n",
            "Epoch 1: Class_accuracy: 99.02%\n",
            "Epoch 2: Class_accuracy: 99.09%\n",
            "Epoch 3: Class_accuracy: 99.19%\n",
            "Epoch 4: Class_accuracy: 99.18%\n",
            "Epoch 5: Class_accuracy: 99.31%\n",
            "Epoch 6: Class_accuracy: 99.26%\n",
            "Epoch 7: Class_accuracy: 99.32%\n",
            "Epoch 8: Class_accuracy: 99.37%\n",
            "Epoch 9: Class_accuracy: 99.32%\n",
            "Epoch 10: Class_accuracy: 99.29%\n",
            "Epoch 11: Class_accuracy: 99.39%\n",
            "Epoch 12: Class_accuracy: 99.29%\n",
            "\n",
            "Training Student Model\n",
            "Epoch 1: Class_accuracy: 95.72%\n",
            "Epoch 2: Class_accuracy: 97.29%\n",
            "Epoch 3: Class_accuracy: 97.80%\n",
            "Epoch 4: Class_accuracy: 98.06%\n",
            "Epoch 5: Class_accuracy: 98.19%\n",
            "Epoch 6: Class_accuracy: 98.38%\n",
            "Epoch 7: Class_accuracy: 98.41%\n",
            "Epoch 8: Class_accuracy: 98.56%\n",
            "Epoch 9: Class_accuracy: 98.62%\n",
            "Epoch 10: Class_accuracy: 98.63%\n",
            "Epoch 11: Class_accuracy: 98.67%\n",
            "Epoch 12: Class_accuracy: 98.74%\n"
          ]
        }
      ]
    },
    {
      "cell_type": "markdown",
      "source": [
        "# Question 13"
      ],
      "metadata": {
        "id": "qGIkrQoBM_3Y"
      }
    },
    {
      "cell_type": "markdown",
      "source": [
        "**XAI method to explain models**"
      ],
      "metadata": {
        "id": "wAZqoavGNFcC"
      }
    },
    {
      "cell_type": "code",
      "source": [],
      "metadata": {
        "id": "RNzKVL8tNIPb"
      },
      "execution_count": null,
      "outputs": []
    }
  ]
}