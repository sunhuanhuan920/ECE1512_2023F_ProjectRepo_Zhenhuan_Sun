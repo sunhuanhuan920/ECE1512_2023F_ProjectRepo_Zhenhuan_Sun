{
  "nbformat": 4,
  "nbformat_minor": 0,
  "metadata": {
    "colab": {
      "provenance": [],
      "gpuType": "T4",
      "authorship_tag": "ABX9TyM0qKdTwhXzp5rxZqxe8moI",
      "include_colab_link": true
    },
    "kernelspec": {
      "name": "python3",
      "display_name": "Python 3"
    },
    "language_info": {
      "name": "python"
    },
    "accelerator": "GPU",
    "widgets": {
      "application/vnd.jupyter.widget-state+json": {
        "1030d0c18f8c483eb96c73769bedb7dc": {
          "model_module": "@jupyter-widgets/controls",
          "model_name": "HBoxModel",
          "model_module_version": "1.5.0",
          "state": {
            "_dom_classes": [],
            "_model_module": "@jupyter-widgets/controls",
            "_model_module_version": "1.5.0",
            "_model_name": "HBoxModel",
            "_view_count": null,
            "_view_module": "@jupyter-widgets/controls",
            "_view_module_version": "1.5.0",
            "_view_name": "HBoxView",
            "box_style": "",
            "children": [
              "IPY_MODEL_7e8b449a98b64788ab610a6acfcb115b",
              "IPY_MODEL_0c9d9ab5cfe9464e9af4ac10b906c962",
              "IPY_MODEL_38c228940f6b46989e985e0d130d62e6"
            ],
            "layout": "IPY_MODEL_5eb2916658cd4b3d86c0cc3578588d5f"
          }
        },
        "7e8b449a98b64788ab610a6acfcb115b": {
          "model_module": "@jupyter-widgets/controls",
          "model_name": "HTMLModel",
          "model_module_version": "1.5.0",
          "state": {
            "_dom_classes": [],
            "_model_module": "@jupyter-widgets/controls",
            "_model_module_version": "1.5.0",
            "_model_name": "HTMLModel",
            "_view_count": null,
            "_view_module": "@jupyter-widgets/controls",
            "_view_module_version": "1.5.0",
            "_view_name": "HTMLView",
            "description": "",
            "description_tooltip": null,
            "layout": "IPY_MODEL_3236c370c67a4978a692fcbe6736e3ff",
            "placeholder": "​",
            "style": "IPY_MODEL_82522893fa374fb0acb5e099bdfa3252",
            "value": "Dl Completed...: 100%"
          }
        },
        "0c9d9ab5cfe9464e9af4ac10b906c962": {
          "model_module": "@jupyter-widgets/controls",
          "model_name": "FloatProgressModel",
          "model_module_version": "1.5.0",
          "state": {
            "_dom_classes": [],
            "_model_module": "@jupyter-widgets/controls",
            "_model_module_version": "1.5.0",
            "_model_name": "FloatProgressModel",
            "_view_count": null,
            "_view_module": "@jupyter-widgets/controls",
            "_view_module_version": "1.5.0",
            "_view_name": "ProgressView",
            "bar_style": "success",
            "description": "",
            "description_tooltip": null,
            "layout": "IPY_MODEL_8cd89621a37f4534ba703774b5832445",
            "max": 5,
            "min": 0,
            "orientation": "horizontal",
            "style": "IPY_MODEL_47af54a03c874cd7b64603e92832dc21",
            "value": 5
          }
        },
        "38c228940f6b46989e985e0d130d62e6": {
          "model_module": "@jupyter-widgets/controls",
          "model_name": "HTMLModel",
          "model_module_version": "1.5.0",
          "state": {
            "_dom_classes": [],
            "_model_module": "@jupyter-widgets/controls",
            "_model_module_version": "1.5.0",
            "_model_name": "HTMLModel",
            "_view_count": null,
            "_view_module": "@jupyter-widgets/controls",
            "_view_module_version": "1.5.0",
            "_view_name": "HTMLView",
            "description": "",
            "description_tooltip": null,
            "layout": "IPY_MODEL_92345f5e1e9c4eba9e4e754fd4f297a1",
            "placeholder": "​",
            "style": "IPY_MODEL_dc0a15dad64a4e55b42485da3a4432ba",
            "value": " 5/5 [00:00&lt;00:00, 13.61 file/s]"
          }
        },
        "5eb2916658cd4b3d86c0cc3578588d5f": {
          "model_module": "@jupyter-widgets/base",
          "model_name": "LayoutModel",
          "model_module_version": "1.2.0",
          "state": {
            "_model_module": "@jupyter-widgets/base",
            "_model_module_version": "1.2.0",
            "_model_name": "LayoutModel",
            "_view_count": null,
            "_view_module": "@jupyter-widgets/base",
            "_view_module_version": "1.2.0",
            "_view_name": "LayoutView",
            "align_content": null,
            "align_items": null,
            "align_self": null,
            "border": null,
            "bottom": null,
            "display": null,
            "flex": null,
            "flex_flow": null,
            "grid_area": null,
            "grid_auto_columns": null,
            "grid_auto_flow": null,
            "grid_auto_rows": null,
            "grid_column": null,
            "grid_gap": null,
            "grid_row": null,
            "grid_template_areas": null,
            "grid_template_columns": null,
            "grid_template_rows": null,
            "height": null,
            "justify_content": null,
            "justify_items": null,
            "left": null,
            "margin": null,
            "max_height": null,
            "max_width": null,
            "min_height": null,
            "min_width": null,
            "object_fit": null,
            "object_position": null,
            "order": null,
            "overflow": null,
            "overflow_x": null,
            "overflow_y": null,
            "padding": null,
            "right": null,
            "top": null,
            "visibility": null,
            "width": null
          }
        },
        "3236c370c67a4978a692fcbe6736e3ff": {
          "model_module": "@jupyter-widgets/base",
          "model_name": "LayoutModel",
          "model_module_version": "1.2.0",
          "state": {
            "_model_module": "@jupyter-widgets/base",
            "_model_module_version": "1.2.0",
            "_model_name": "LayoutModel",
            "_view_count": null,
            "_view_module": "@jupyter-widgets/base",
            "_view_module_version": "1.2.0",
            "_view_name": "LayoutView",
            "align_content": null,
            "align_items": null,
            "align_self": null,
            "border": null,
            "bottom": null,
            "display": null,
            "flex": null,
            "flex_flow": null,
            "grid_area": null,
            "grid_auto_columns": null,
            "grid_auto_flow": null,
            "grid_auto_rows": null,
            "grid_column": null,
            "grid_gap": null,
            "grid_row": null,
            "grid_template_areas": null,
            "grid_template_columns": null,
            "grid_template_rows": null,
            "height": null,
            "justify_content": null,
            "justify_items": null,
            "left": null,
            "margin": null,
            "max_height": null,
            "max_width": null,
            "min_height": null,
            "min_width": null,
            "object_fit": null,
            "object_position": null,
            "order": null,
            "overflow": null,
            "overflow_x": null,
            "overflow_y": null,
            "padding": null,
            "right": null,
            "top": null,
            "visibility": null,
            "width": null
          }
        },
        "82522893fa374fb0acb5e099bdfa3252": {
          "model_module": "@jupyter-widgets/controls",
          "model_name": "DescriptionStyleModel",
          "model_module_version": "1.5.0",
          "state": {
            "_model_module": "@jupyter-widgets/controls",
            "_model_module_version": "1.5.0",
            "_model_name": "DescriptionStyleModel",
            "_view_count": null,
            "_view_module": "@jupyter-widgets/base",
            "_view_module_version": "1.2.0",
            "_view_name": "StyleView",
            "description_width": ""
          }
        },
        "8cd89621a37f4534ba703774b5832445": {
          "model_module": "@jupyter-widgets/base",
          "model_name": "LayoutModel",
          "model_module_version": "1.2.0",
          "state": {
            "_model_module": "@jupyter-widgets/base",
            "_model_module_version": "1.2.0",
            "_model_name": "LayoutModel",
            "_view_count": null,
            "_view_module": "@jupyter-widgets/base",
            "_view_module_version": "1.2.0",
            "_view_name": "LayoutView",
            "align_content": null,
            "align_items": null,
            "align_self": null,
            "border": null,
            "bottom": null,
            "display": null,
            "flex": null,
            "flex_flow": null,
            "grid_area": null,
            "grid_auto_columns": null,
            "grid_auto_flow": null,
            "grid_auto_rows": null,
            "grid_column": null,
            "grid_gap": null,
            "grid_row": null,
            "grid_template_areas": null,
            "grid_template_columns": null,
            "grid_template_rows": null,
            "height": null,
            "justify_content": null,
            "justify_items": null,
            "left": null,
            "margin": null,
            "max_height": null,
            "max_width": null,
            "min_height": null,
            "min_width": null,
            "object_fit": null,
            "object_position": null,
            "order": null,
            "overflow": null,
            "overflow_x": null,
            "overflow_y": null,
            "padding": null,
            "right": null,
            "top": null,
            "visibility": null,
            "width": null
          }
        },
        "47af54a03c874cd7b64603e92832dc21": {
          "model_module": "@jupyter-widgets/controls",
          "model_name": "ProgressStyleModel",
          "model_module_version": "1.5.0",
          "state": {
            "_model_module": "@jupyter-widgets/controls",
            "_model_module_version": "1.5.0",
            "_model_name": "ProgressStyleModel",
            "_view_count": null,
            "_view_module": "@jupyter-widgets/base",
            "_view_module_version": "1.2.0",
            "_view_name": "StyleView",
            "bar_color": null,
            "description_width": ""
          }
        },
        "92345f5e1e9c4eba9e4e754fd4f297a1": {
          "model_module": "@jupyter-widgets/base",
          "model_name": "LayoutModel",
          "model_module_version": "1.2.0",
          "state": {
            "_model_module": "@jupyter-widgets/base",
            "_model_module_version": "1.2.0",
            "_model_name": "LayoutModel",
            "_view_count": null,
            "_view_module": "@jupyter-widgets/base",
            "_view_module_version": "1.2.0",
            "_view_name": "LayoutView",
            "align_content": null,
            "align_items": null,
            "align_self": null,
            "border": null,
            "bottom": null,
            "display": null,
            "flex": null,
            "flex_flow": null,
            "grid_area": null,
            "grid_auto_columns": null,
            "grid_auto_flow": null,
            "grid_auto_rows": null,
            "grid_column": null,
            "grid_gap": null,
            "grid_row": null,
            "grid_template_areas": null,
            "grid_template_columns": null,
            "grid_template_rows": null,
            "height": null,
            "justify_content": null,
            "justify_items": null,
            "left": null,
            "margin": null,
            "max_height": null,
            "max_width": null,
            "min_height": null,
            "min_width": null,
            "object_fit": null,
            "object_position": null,
            "order": null,
            "overflow": null,
            "overflow_x": null,
            "overflow_y": null,
            "padding": null,
            "right": null,
            "top": null,
            "visibility": null,
            "width": null
          }
        },
        "dc0a15dad64a4e55b42485da3a4432ba": {
          "model_module": "@jupyter-widgets/controls",
          "model_name": "DescriptionStyleModel",
          "model_module_version": "1.5.0",
          "state": {
            "_model_module": "@jupyter-widgets/controls",
            "_model_module_version": "1.5.0",
            "_model_name": "DescriptionStyleModel",
            "_view_count": null,
            "_view_module": "@jupyter-widgets/base",
            "_view_module_version": "1.2.0",
            "_view_name": "StyleView",
            "description_width": ""
          }
        }
      }
    }
  },
  "cells": [
    {
      "cell_type": "markdown",
      "metadata": {
        "id": "view-in-github",
        "colab_type": "text"
      },
      "source": [
        "<a href=\"https://colab.research.google.com/github/sunhuanhuan920/ECE1512_2023F_ProjectRepo_Zhenhuan_Sun/blob/main/Project%20A/Project_A.ipynb\" target=\"_parent\"><img src=\"https://colab.research.google.com/assets/colab-badge.svg\" alt=\"Open In Colab\"/></a>"
      ]
    },
    {
      "cell_type": "code",
      "source": [
        "from google.colab import drive\n",
        "drive.mount(\"/content/drive\")"
      ],
      "metadata": {
        "colab": {
          "base_uri": "https://localhost:8080/"
        },
        "id": "VGLOhmoH_66B",
        "outputId": "743ec3a6-b991-4e42-ca74-d861a0671419"
      },
      "execution_count": 1,
      "outputs": [
        {
          "output_type": "stream",
          "name": "stdout",
          "text": [
            "Mounted at /content/drive\n"
          ]
        }
      ]
    },
    {
      "cell_type": "markdown",
      "source": [
        "# **Task 1: Knowledge Distillation in MNIST Dataset**"
      ],
      "metadata": {
        "id": "bxVRMZgE_zfI"
      }
    },
    {
      "cell_type": "markdown",
      "source": [
        "# Question 1\n",
        "\n",
        "(a). Transfer the knowledge from a large and cumbersome model to a model that is smaller and more suitable for deployment.\n",
        "\n",
        "(b). The class probabilities produced by the cumbersome model.\n",
        "\n",
        "(c).\n",
        "\n",
        "\\begin{equation}\n",
        "\\lim_{T \\to \\infty} \\frac{\\exp(z_i / T)}{\\sum_j \\exp(z_j / T)} = \\frac{\\exp(0)}{\\sum_j \\exp(0)} = \\frac{1}{K}\n",
        "\\end{equation}\n",
        "\n",
        "where $K$ denotes the number of classes. Thus, from this we can see that $T$ is a scaling factor that will make the probability distribution acorss all classes become closer to a uniform distribution.\n",
        "\n",
        "We use $T$ to soften the probability distribution over classes, and capture and amplify nuanced information that cannot be captured by hard targets, such as one-hot vector.\n",
        "\n",
        "By using a large value of $T$, the relative probabilities between classes become more discernible. From which, subtle information (knowledge), such as how the teacher model perceives the difference between classes and what mistakes the teacher model is more likely to make, can be acquired and utilized during knowledge distillation.\n",
        "\n",
        "(d). The loss function comprises two parts, the first part, which is called distillation loss, is defined as\n",
        "\n",
        "\\begin{equation}\n",
        "L^{(distillation)}(\\mathbf{x}|T) = -\\sum_{i=1}^K q_i(\\mathbf{x}|T) \\log(p_i(\\mathbf{x}|T))\n",
        "\\end{equation}\n",
        "\n",
        "where $q_i(\\mathbf{x}|T)$ is the softened probability for class $i$ given input vector $\\mathbf{x}$ and distillation temperature $T$ from the teacher model, and $p_i(\\mathbf{x}|T)$ is the student model's softened probability for class $i$ given same input vector and distillation temperature. Cross entropy is used to measure the difference between the student's softened probability distribution and the teacher's softened probability distribution over all classes.\n",
        "\n",
        "The second part, which is sometimes referred as classification loss, is defined as\n",
        "\n",
        "\\begin{equation}\n",
        "L^{(classification)}(\\mathbf{x}|T=1) = -\\sum_{i=1}^K y_i \\log(p_i(\\mathbf{x}|T=1))\n",
        "\\end{equation}\n",
        "\n",
        "where $y_i$ is the $i$ th element of the one-hot vector. Cross entropy is used to measure the difference between student model's unsoftened ($T = 1$) predicted probability distribution for different classes and the true class probability distribution, e.g., one-hot vector.\n",
        "\n",
        "The combined loss function is defined as\n",
        "\n",
        "\\begin{equation}\n",
        "L(\\mathbf{x}|T) = \\lambda T^2 \\cdot L^{(distillation)}(\\mathbf{x}|T) + (1 - \\lambda) \\cdot L^{(classification)}(\\mathbf{x}|1)\n",
        "\\end{equation}\n",
        "\n",
        "where weight parameter ($\\lambda$), i.e.,task balance parameter, is introduced to combined the distillation loss and classification loss. In addition, the distillation loss is scaled by a factor of $T^2$ in the weighted sum to compensate for the gradient's down scale by a factor of $1/T^2$ due to the present of $T$ in the softmax function.\n",
        "\n",
        "The task balance parameter governs the relative contribution of distillation loss and classification loss in the overall kownledge distillation process. When $\\lambda$ equals to 1, the student model focuses on distillation and is trained only using the kownledge from the teacher model. When $\\lambda$ equals to 0, the student model is trained regularly using labeled data. By adjusting $\\lambda$ between $0$ and $1$, we can control how much of the teacher model's knowledge versus the acutal data we want the student to focus on during its training.\n",
        "\n",
        "(e). The use of soft targets allows student model to account for the relative probabilites of different classes in the teacher model's output and have a deeper understanding of how teacher model generalizes. Thus, by performing knowledge distillation from teacher model to student model, we are essentially letting teacher model to teach student model how to generalize well, which is equivalent to the effect of regularization."
      ],
      "metadata": {
        "id": "i-WydnySDlvu"
      }
    },
    {
      "cell_type": "markdown",
      "source": [
        "# Question 2"
      ],
      "metadata": {
        "id": "2XcbESXuEGT2"
      }
    },
    {
      "cell_type": "markdown",
      "source": [
        "**Load Dataset**"
      ],
      "metadata": {
        "id": "QU86Y4BmBivV"
      }
    },
    {
      "cell_type": "code",
      "execution_count": 2,
      "metadata": {
        "id": "Kx8sbRj3vjNR",
        "colab": {
          "base_uri": "https://localhost:8080/",
          "height": 84,
          "referenced_widgets": [
            "1030d0c18f8c483eb96c73769bedb7dc",
            "7e8b449a98b64788ab610a6acfcb115b",
            "0c9d9ab5cfe9464e9af4ac10b906c962",
            "38c228940f6b46989e985e0d130d62e6",
            "5eb2916658cd4b3d86c0cc3578588d5f",
            "3236c370c67a4978a692fcbe6736e3ff",
            "82522893fa374fb0acb5e099bdfa3252",
            "8cd89621a37f4534ba703774b5832445",
            "47af54a03c874cd7b64603e92832dc21",
            "92345f5e1e9c4eba9e4e754fd4f297a1",
            "dc0a15dad64a4e55b42485da3a4432ba"
          ]
        },
        "outputId": "8549c8f1-2610-4089-db35-5c674d1431fe"
      },
      "outputs": [
        {
          "output_type": "stream",
          "name": "stdout",
          "text": [
            "Downloading and preparing dataset 11.06 MiB (download: 11.06 MiB, generated: 21.00 MiB, total: 32.06 MiB) to /root/tensorflow_datasets/mnist/3.0.1...\n"
          ]
        },
        {
          "output_type": "display_data",
          "data": {
            "text/plain": [
              "Dl Completed...:   0%|          | 0/5 [00:00<?, ? file/s]"
            ],
            "application/vnd.jupyter.widget-view+json": {
              "version_major": 2,
              "version_minor": 0,
              "model_id": "1030d0c18f8c483eb96c73769bedb7dc"
            }
          },
          "metadata": {}
        },
        {
          "output_type": "stream",
          "name": "stdout",
          "text": [
            "Dataset mnist downloaded and prepared to /root/tensorflow_datasets/mnist/3.0.1. Subsequent calls will reuse this data.\n"
          ]
        }
      ],
      "source": [
        "# import tensorflow.compat.v2 as tf\n",
        "import tensorflow as tf\n",
        "import tensorflow_datasets as tfds\n",
        "from typing import Union\n",
        "\n",
        "# tf.enable_v2_behavior()\n",
        "\n",
        "builder = tfds.builder('mnist')\n",
        "BATCH_SIZE = 256\n",
        "NUM_EPOCHS = 12\n",
        "NUM_CLASSES = 10  # 10 total classes.\n",
        "\n",
        "# Load train and test splits.\n",
        "def preprocess(x):\n",
        "  image = tf.image.convert_image_dtype(x['image'], tf.float32)\n",
        "  subclass_labels = tf.one_hot(x['label'], builder.info.features['label'].num_classes)\n",
        "  return image, subclass_labels\n",
        "\n",
        "\n",
        "mnist_train = tfds.load('mnist', split='train', shuffle_files=False).cache()\n",
        "mnist_train = mnist_train.map(preprocess)\n",
        "mnist_train = mnist_train.shuffle(builder.info.splits['train'].num_examples)\n",
        "mnist_train = mnist_train.batch(BATCH_SIZE, drop_remainder=True)\n",
        "\n",
        "mnist_test = tfds.load('mnist', split='test').cache()\n",
        "mnist_test = mnist_test.map(preprocess).batch(BATCH_SIZE)"
      ]
    },
    {
      "cell_type": "code",
      "source": [
        "import matplotlib.pyplot as plt\n",
        "import numpy as np\n",
        "\n",
        "# Take one batch from mnist_train\n",
        "for images, labels in mnist_train.take(1):\n",
        "    plt.figure(figsize=(10, 10))\n",
        "    # Visualize the first 25 images from the batch\n",
        "    for i in range(25):\n",
        "        # print(images[i].shape)\n",
        "        # print(labels[i].shape)\n",
        "        plt.subplot(5, 5, i + 1)\n",
        "        plt.imshow(images[i].numpy().squeeze(), cmap='gray')\n",
        "        plt.title('Label: %d' % tf.argmax(labels[i]))\n",
        "        plt.axis('off')\n",
        "    plt.show()"
      ],
      "metadata": {
        "colab": {
          "base_uri": "https://localhost:8080/",
          "height": 829
        },
        "id": "C5gLXYRCEGl0",
        "outputId": "5e71bfa4-4172-4e22-9a7a-0c7cc292ef11"
      },
      "execution_count": 3,
      "outputs": [
        {
          "output_type": "display_data",
          "data": {
            "text/plain": [
              "<Figure size 1000x1000 with 25 Axes>"
            ],
            "image/png": "[encoded data removed]"
          },
          "metadata": {}
        }
      ]
    },
    {
      "cell_type": "markdown",
      "source": [
        "**Model Creation**"
      ],
      "metadata": {
        "id": "rc0Jj5kQGHWB"
      }
    },
    {
      "cell_type": "code",
      "source": [
        "# Build CNN teacher.\n",
        "cnn_model = tf.keras.Sequential([\n",
        "\n",
        "    # Each image in MINIST dataset has shape of (28, 28, 1)\n",
        "    tf.keras.layers.Conv2D(filters=32, kernel_size=(3, 3), strides=(1, 1), activation='relu', input_shape=(28, 28, 1)),\n",
        "\n",
        "    tf.keras.layers.MaxPooling2D(pool_size=(2, 2), strides=(1, 1)),\n",
        "\n",
        "    tf.keras.layers.Conv2D(filters=64, kernel_size=(3,3), strides=(1, 1), activation='relu'),\n",
        "\n",
        "    tf.keras.layers.MaxPooling2D(pool_size=(2, 2), strides=(2, 2)),\n",
        "\n",
        "    tf.keras.layers.Flatten(),\n",
        "\n",
        "    tf.keras.layers.Dropout(rate=0.5),\n",
        "    tf.keras.layers.Dense(units=128, activation='relu'),\n",
        "\n",
        "    tf.keras.layers.Dropout(rate=0.5),\n",
        "    # There are 10 classes in MINIST dataset\n",
        "    tf.keras.layers.Dense(10)\n",
        "])\n",
        "\n",
        "# your code start from here for stpe 2\n",
        "\n",
        "\n",
        "# Build fully connected student.\n",
        "fc_model = tf.keras.Sequential([\n",
        "\n",
        "    tf.keras.layers.Flatten(input_shape=(28, 28, 1)),\n",
        "\n",
        "    tf.keras.layers.Dense(units=784, activation='relu'),\n",
        "\n",
        "    tf.keras.layers.Dense(units=784, activation='relu'),\n",
        "\n",
        "    # There are 10 classes in MINIST dataset\n",
        "    tf.keras.layers.Dense(10)\n",
        "])\n",
        "\n",
        "# your code start from here for step 2"
      ],
      "metadata": {
        "id": "b2XKK6QiGLrN"
      },
      "execution_count": 4,
      "outputs": []
    },
    {
      "cell_type": "markdown",
      "source": [
        "# Question 3"
      ],
      "metadata": {
        "id": "kNWucxEtOBBE"
      }
    },
    {
      "cell_type": "markdown",
      "source": [
        "**Teacher loss function**"
      ],
      "metadata": {
        "id": "Hj4jG0yYOtNM"
      }
    },
    {
      "cell_type": "code",
      "source": [
        "@tf.function\n",
        "def compute_teacher_loss(images, labels):\n",
        "    \"\"\"Compute subclass knowledge distillation teacher loss for given images\n",
        "       and labels.\n",
        "\n",
        "    Args:\n",
        "      images: Tensor representing a batch of images.\n",
        "      labels: Tensor representing a batch of labels.\n",
        "\n",
        "    Returns:\n",
        "      Scalar loss Tensor.\n",
        "    \"\"\"\n",
        "    subclass_logits = cnn_model(images, training=True)\n",
        "\n",
        "    # your code start from here for step 3\n",
        "    # Compute cross-entropy loss for subclasses.\n",
        "    cross_entropy_loss = tf.keras.losses.CategoricalCrossentropy(from_logits=True)\n",
        "    cross_entropy_loss_value = cross_entropy_loss(labels, subclass_logits)\n",
        "\n",
        "    return cross_entropy_loss_value"
      ],
      "metadata": {
        "id": "Z7MTHc1mOCqN"
      },
      "execution_count": 5,
      "outputs": []
    },
    {
      "cell_type": "markdown",
      "source": [
        "**Student loss function**"
      ],
      "metadata": {
        "id": "qLoMYKOuOyuz"
      }
    },
    {
      "cell_type": "code",
      "source": [
        "# Hyperparameters for distillation (need to be tuned).\n",
        "ALPHA = 0.5 # task balance between cross-entropy and distillation loss\n",
        "DISTILLATION_TEMPERATURE = 4. #temperature hyperparameter\n",
        "\n",
        "def distillation_loss(teacher_logits: tf.Tensor, student_logits: tf.Tensor,\n",
        "                      temperature: Union[float, tf.Tensor]):\n",
        "    \"\"\"Compute distillation loss.\n",
        "\n",
        "    This function computes cross entropy between softened logits and softened\n",
        "    targets. The resulting loss is scaled by the squared temperature so that\n",
        "    the gradient magnitude remains approximately constant as the temperature is\n",
        "    changed. For reference, see Hinton et al., 2014, \"Distilling the knowledge in\n",
        "    a neural network.\"\n",
        "\n",
        "    Args:\n",
        "      teacher_logits: A Tensor of logits provided by the teacher.\n",
        "      student_logits: A Tensor of logits provided by the student, of the same\n",
        "        shape as `teacher_logits`.\n",
        "      temperature: Temperature to use for distillation.\n",
        "\n",
        "    Returns:\n",
        "      A scalar Tensor containing the distillation loss.\n",
        "    \"\"\"\n",
        "    # your code start from here for step 3\n",
        "    soft_targets = tf.nn.softmax(teacher_logits / temperature)\n",
        "\n",
        "    return tf.reduce_mean(\n",
        "        tf.nn.softmax_cross_entropy_with_logits(\n",
        "            soft_targets, student_logits / temperature)) * temperature ** 2\n",
        "\n",
        "def compute_student_loss(images, labels):\n",
        "    \"\"\"Compute subclass knowledge distillation student loss for given images\n",
        "      and labels.\n",
        "\n",
        "    Args:\n",
        "      images: Tensor representing a batch of images.\n",
        "      labels: Tensor representing a batch of labels.\n",
        "\n",
        "    Returns:\n",
        "      Scalar loss Tensor.\n",
        "    \"\"\"\n",
        "    student_subclass_logits = fc_model(images, training=True)\n",
        "\n",
        "    # Compute subclass distillation loss between student subclass logits and\n",
        "    # softened teacher subclass targets probabilities.\n",
        "\n",
        "    # your code start from here for step 3\n",
        "\n",
        "    teacher_subclass_logits = cnn_model(images, training=False)\n",
        "    distillation_loss_value = distillation_loss(teacher_subclass_logits, student_subclass_logits, DISTILLATION_TEMPERATURE)\n",
        "\n",
        "    # Compute cross-entropy loss with hard targets.\n",
        "\n",
        "    # your code start from here for step 3\n",
        "\n",
        "    cross_entropy = tf.keras.losses.CategoricalCrossentropy(from_logits=True)\n",
        "    cross_entropy_loss_value = cross_entropy(labels, student_subclass_logits)\n",
        "\n",
        "    combined_loss = ALPHA * (DISTILLATION_TEMPERATURE ** 2) * distillation_loss_value + (1 - ALPHA) * cross_entropy_loss_value\n",
        "\n",
        "    return combined_loss"
      ],
      "metadata": {
        "id": "OKN83rdhOf7m"
      },
      "execution_count": 6,
      "outputs": []
    },
    {
      "cell_type": "markdown",
      "source": [
        "# Question 4"
      ],
      "metadata": {
        "id": "MVqzq0qqY1u_"
      }
    },
    {
      "cell_type": "markdown",
      "source": [
        "**Train and evaluation**"
      ],
      "metadata": {
        "id": "1tcgJNa1Y3xx"
      }
    },
    {
      "cell_type": "code",
      "source": [
        "NUM_EPOCHS = 12\n",
        "\n",
        "@tf.function\n",
        "def compute_num_correct(model, images, labels):\n",
        "    \"\"\"Compute number of correctly classified images in a batch.\n",
        "\n",
        "    Args:\n",
        "      model: Instance of tf.keras.Model.\n",
        "      images: Tensor representing a batch of images.\n",
        "      labels: Tensor representing a batch of labels.\n",
        "\n",
        "    Returns:\n",
        "      Number of correctly classified images.\n",
        "    \"\"\"\n",
        "    class_logits = model(images, training=False)\n",
        "    return tf.reduce_sum(\n",
        "        tf.cast(tf.math.equal(tf.argmax(class_logits, -1), tf.argmax(labels, -1)),\n",
        "                tf.float32)), tf.argmax(class_logits, -1), tf.argmax(labels, -1)\n",
        "\n",
        "\n",
        "def train_and_evaluate(model, compute_loss_fn):\n",
        "    \"\"\"Perform training and evaluation for a given model.\n",
        "\n",
        "    Args:\n",
        "      model: Instance of tf.keras.Model.\n",
        "      compute_loss_fn: A function that computes the training loss given the\n",
        "        images, and labels.\n",
        "    \"\"\"\n",
        "\n",
        "    # your code start from here for step 4\n",
        "    # Initialize Adam optimizer with learning rate of 0.001\n",
        "    optimizer = tf.keras.optimizers.Adam(learning_rate=0.001)\n",
        "\n",
        "    for epoch in range(1, NUM_EPOCHS + 1):\n",
        "      # Run training.\n",
        "      print('Epoch {}: '.format(epoch), end='')\n",
        "      for images, labels in mnist_train:\n",
        "        # For backpropagation\n",
        "        # Records the operations performed inside its block to compute gradients\n",
        "        with tf.GradientTape() as tape:\n",
        "          # your code start from here for step 4\n",
        "\n",
        "          # Compute loss\n",
        "          loss_value = compute_loss_fn(images, labels)\n",
        "\n",
        "        # Use the recorded operations to compute the gradients\n",
        "        grads = tape.gradient(loss_value, model.trainable_variables)\n",
        "        optimizer.apply_gradients(zip(grads, model.trainable_variables))\n",
        "\n",
        "      # Run evaluation.\n",
        "      num_correct = 0\n",
        "      num_total = builder.info.splits['test'].num_examples\n",
        "      for images, labels in mnist_test:\n",
        "        # your code start from here for step 4\n",
        "        num_correct_batch, _, _ = compute_num_correct(model, images, labels)\n",
        "        num_correct += num_correct_batch\n",
        "        # num_correct += compute_num_correct(model, images, labels)\n",
        "      print(\"Class_accuracy: \" + '{:.2f}%'.format(\n",
        "          num_correct / num_total * 100))"
      ],
      "metadata": {
        "id": "193QKH1OY70J"
      },
      "execution_count": 9,
      "outputs": []
    },
    {
      "cell_type": "markdown",
      "source": [
        "# Question 5"
      ],
      "metadata": {
        "id": "CykfmYE3f-50"
      }
    },
    {
      "cell_type": "markdown",
      "source": [
        "**Training models**"
      ],
      "metadata": {
        "id": "jQuBGQEQgAut"
      }
    },
    {
      "cell_type": "code",
      "source": [
        "# your code start from here for step 5\n",
        "\n",
        "# Train teacher model\n",
        "print(\"Training Teacher Model\")\n",
        "train_and_evaluate(cnn_model, compute_teacher_loss)\n",
        "\n",
        "# Train student model\n",
        "print(\"\\nTraining Student Model\")\n",
        "train_and_evaluate(fc_model, compute_student_loss)"
      ],
      "metadata": {
        "colab": {
          "base_uri": "https://localhost:8080/"
        },
        "id": "v1npY-KtgFg9",
        "outputId": "cc61b6f2-de55-4cbb-a546-2381149d30e8"
      },
      "execution_count": 10,
      "outputs": [
        {
          "output_type": "stream",
          "name": "stdout",
          "text": [
            "Training Teacher Model\n",
            "Epoch 1: Class_accuracy: 98.69%\n",
            "Epoch 2: Class_accuracy: 98.70%\n",
            "Epoch 3: Class_accuracy: 98.91%\n",
            "Epoch 4: Class_accuracy: 99.00%\n",
            "Epoch 5: Class_accuracy: 99.13%\n",
            "Epoch 6: Class_accuracy: 99.13%\n",
            "Epoch 7: Class_accuracy: 99.39%\n",
            "Epoch 8: Class_accuracy: 99.24%\n",
            "Epoch 9: Class_accuracy: 99.20%\n",
            "Epoch 10: Class_accuracy: 99.22%\n",
            "Epoch 11: Class_accuracy: 99.03%\n",
            "Epoch 12: Class_accuracy: 99.26%\n",
            "\n",
            "Training Student Model\n",
            "Epoch 1: Class_accuracy: 96.68%\n",
            "Epoch 2: Class_accuracy: 97.74%\n",
            "Epoch 3: Class_accuracy: 98.26%\n",
            "Epoch 4: Class_accuracy: 98.35%\n",
            "Epoch 5: Class_accuracy: 98.49%\n",
            "Epoch 6: Class_accuracy: 98.51%\n",
            "Epoch 7: Class_accuracy: 98.61%\n",
            "Epoch 8: Class_accuracy: 98.62%\n",
            "Epoch 9: Class_accuracy: 98.57%\n",
            "Epoch 10: Class_accuracy: 98.75%\n",
            "Epoch 11: Class_accuracy: 98.69%\n",
            "Epoch 12: Class_accuracy: 98.74%\n"
          ]
        }
      ]
    },
    {
      "cell_type": "markdown",
      "source": [
        "# **Task 2: Knowledge Distillation in MHIST Dataset**"
      ],
      "metadata": {
        "id": "IBWa_nK7AFvQ"
      }
    },
    {
      "cell_type": "code",
      "source": [],
      "metadata": {
        "id": "V98krVG3_52s"
      },
      "execution_count": null,
      "outputs": []
    }
  ]
}