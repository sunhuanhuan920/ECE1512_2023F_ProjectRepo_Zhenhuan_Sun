{
  "nbformat": 4,
  "nbformat_minor": 0,
  "metadata": {
    "colab": {
      "provenance": [],
      "gpuType": "T4",
      "authorship_tag": "ABX9TyNJguPp96TdTJc3lDppVTFO",
      "include_colab_link": true
    },
    "kernelspec": {
      "name": "python3",
      "display_name": "Python 3"
    },
    "language_info": {
      "name": "python"
    },
    "accelerator": "GPU"
  },
  "cells": [
    {
      "cell_type": "markdown",
      "metadata": {
        "id": "view-in-github",
        "colab_type": "text"
      },
      "source": [
        "<a href=\"https://colab.research.google.com/github/sunhuanhuan920/ECE1512_2023F_ProjectRepo_Zhenhuan_Sun/blob/main/Project%20A/Project_A.ipynb\" target=\"_parent\"><img src=\"https://colab.research.google.com/assets/colab-badge.svg\" alt=\"Open In Colab\"/></a>"
      ]
    },
    {
      "cell_type": "code",
      "source": [
        "from google.colab import drive\n",
        "drive.mount(\"/content/drive\")"
      ],
      "metadata": {
        "colab": {
          "base_uri": "https://localhost:8080/"
        },
        "id": "VGLOhmoH_66B",
        "outputId": "1e786a6d-0e62-42a5-ac9c-f2a4a462c410"
      },
      "execution_count": 40,
      "outputs": [
        {
          "output_type": "stream",
          "name": "stdout",
          "text": [
            "Drive already mounted at /content/drive; to attempt to forcibly remount, call drive.mount(\"/content/drive\", force_remount=True).\n"
          ]
        }
      ]
    },
    {
      "cell_type": "markdown",
      "source": [
        "# **Task 1: Knowledge Distillation in MNIST Dataset**"
      ],
      "metadata": {
        "id": "bxVRMZgE_zfI"
      }
    },
    {
      "cell_type": "markdown",
      "source": [
        "# Question 1\n",
        "\n",
        "(a). Transfer the knowledge from a large and cumbersome model to a model that is smaller and more suitable for deployment.\n",
        "\n",
        "(b). The class probabilities produced by the cumbersome model.\n",
        "\n",
        "(c).\n",
        "\n",
        "\\begin{equation}\n",
        "\\lim_{T \\to \\infty} \\frac{\\exp(z_i / T)}{\\sum_j \\exp(z_j / T)} = \\frac{\\exp(0)}{\\sum_j \\exp(0)} = \\frac{1}{K}\n",
        "\\end{equation}\n",
        "\n",
        "where $K$ denotes the number of classes. Thus, from this we can see that $T$ is a scaling factor that will make the probability distribution acorss all classes become closer to a uniform distribution.\n",
        "\n",
        "We use $T$ to soften the probability distribution over classes, and capture and amplify nuanced information that cannot be captured by hard targets, such as one-hot vector.\n",
        "\n",
        "By using a large value of $T$, the relative probabilities between classes become more discernible. From which, subtle information (knowledge), such as how the teacher model perceives the difference between classes and what mistakes the teacher model is more likely to make, can be acquired and utilized during knowledge distillation.\n",
        "\n",
        "(d). The loss function comprises two parts, the first part, which is called distillation loss, is defined as\n",
        "\n",
        "\\begin{equation}\n",
        "L^{(distillation)}(\\mathbf{x}|T) = -\\sum_{i=1}^K q_i(\\mathbf{x}|T) \\log(p_i(\\mathbf{x}|T))\n",
        "\\end{equation}\n",
        "\n",
        "where $q_i(\\mathbf{x}|T)$ is the softened probability for class $i$ given input vector $\\mathbf{x}$ and distillation temperature $T$ from the teacher model, and $p_i(\\mathbf{x}|T)$ is the student model's softened probability for class $i$ given same input vector and distillation temperature. Cross entropy is used to measure the difference between the student's softened probability distribution and the teacher's softened probability distribution over all classes.\n",
        "\n",
        "The second part, which is sometimes referred as classification loss, is defined as\n",
        "\n",
        "\\begin{equation}\n",
        "L^{(classification)}(\\mathbf{x}|T=1) = -\\sum_{i=1}^K y_i \\log(p_i(\\mathbf{x}|T=1))\n",
        "\\end{equation}\n",
        "\n",
        "where $y_i$ is the $i$ th element of the one-hot vector. Cross entropy is used to measure the difference between student model's unsoftened ($T = 1$) predicted probability distribution for different classes and the true class probability distribution, e.g., one-hot vector.\n",
        "\n",
        "The combined loss function is defined as\n",
        "\n",
        "\\begin{equation}\n",
        "L(\\mathbf{x}|T) = \\lambda T^2 \\cdot L^{(distillation)}(\\mathbf{x}|T) + (1 - \\lambda) \\cdot L^{(classification)}(\\mathbf{x}|1)\n",
        "\\end{equation}\n",
        "\n",
        "where weight parameter ($\\lambda$), i.e.,task balance parameter, is introduced to combined the distillation loss and classification loss. In addition, the distillation loss is scaled by a factor of $T^2$ in the weighted sum to compensate for the gradient's down scale by a factor of $1/T^2$ due to the present of $T$ in the softmax function.\n",
        "\n",
        "The task balance parameter governs the relative contribution of distillation loss and classification loss in the overall kownledge distillation process. When $\\lambda$ equals to 1, the student model focuses on distillation and is trained only using the kownledge from the teacher model. When $\\lambda$ equals to 0, the student model is trained regularly using labeled data. By adjusting $\\lambda$ between $0$ and $1$, we can control how much of the teacher model's knowledge versus the acutal data we want the student to focus on during its training.\n",
        "\n",
        "(e). The use of soft targets allows student model to account for the relative probabilites of different classes in the teacher model's output and have a deeper understanding of how teacher model generalizes. Thus, by performing knowledge distillation from teacher model to student model, we are essentially letting teacher model to teach student model how to generalize well, which is equivalent to the effect of regularization."
      ],
      "metadata": {
        "id": "i-WydnySDlvu"
      }
    },
    {
      "cell_type": "markdown",
      "source": [
        "# Question 2"
      ],
      "metadata": {
        "id": "2XcbESXuEGT2"
      }
    },
    {
      "cell_type": "markdown",
      "source": [
        "**Load Dataset**"
      ],
      "metadata": {
        "id": "QU86Y4BmBivV"
      }
    },
    {
      "cell_type": "code",
      "execution_count": 41,
      "metadata": {
        "id": "Kx8sbRj3vjNR"
      },
      "outputs": [],
      "source": [
        "# import tensorflow.compat.v2 as tf\n",
        "import tensorflow as tf\n",
        "import tensorflow_datasets as tfds\n",
        "from typing import Union\n",
        "\n",
        "# tf.enable_v2_behavior()\n",
        "\n",
        "builder = tfds.builder('mnist')\n",
        "BATCH_SIZE = 256\n",
        "NUM_EPOCHS = 12\n",
        "NUM_CLASSES = 10  # 10 total classes.\n",
        "\n",
        "# Load train and test splits.\n",
        "def preprocess(x):\n",
        "  image = tf.image.convert_image_dtype(x['image'], tf.float32)\n",
        "  subclass_labels = tf.one_hot(x['label'], builder.info.features['label'].num_classes)\n",
        "  return image, subclass_labels\n",
        "\n",
        "\n",
        "mnist_train = tfds.load('mnist', split='train', shuffle_files=False).cache()\n",
        "mnist_train = mnist_train.map(preprocess)\n",
        "mnist_train = mnist_train.shuffle(builder.info.splits['train'].num_examples)\n",
        "mnist_train = mnist_train.batch(BATCH_SIZE, drop_remainder=True)\n",
        "\n",
        "mnist_test = tfds.load('mnist', split='test').cache()\n",
        "mnist_test = mnist_test.map(preprocess).batch(BATCH_SIZE)"
      ]
    },
    {
      "cell_type": "code",
      "source": [
        "import matplotlib.pyplot as plt\n",
        "import numpy as np\n",
        "\n",
        "# Take one batch from mnist_train\n",
        "for images, labels in mnist_train.take(1):\n",
        "    plt.figure(figsize=(10, 10))\n",
        "    # Visualize the first 25 images from the batch\n",
        "    for i in range(25):\n",
        "        # print(images[i].shape)\n",
        "        # print(labels[i].shape)\n",
        "        plt.subplot(5, 5, i + 1)\n",
        "        plt.imshow(images[i].numpy().squeeze(), cmap='gray')\n",
        "        plt.title('Label: %d' % tf.argmax(labels[i]))\n",
        "        plt.axis('off')\n",
        "    plt.show()"
      ],
      "metadata": {
        "colab": {
          "base_uri": "https://localhost:8080/",
          "height": 829
        },
        "id": "C5gLXYRCEGl0",
        "outputId": "1402c317-11b9-43d2-ad6b-a136359ad6e4"
      },
      "execution_count": 42,
      "outputs": [
        {
          "output_type": "display_data",
          "data": {
            "text/plain": [
              "<Figure size 1000x1000 with 25 Axes>"
            ],
            "image/png": "[encoded data removed]"
          },
          "metadata": {}
        }
      ]
    },
    {
      "cell_type": "markdown",
      "source": [
        "**Model Creation**"
      ],
      "metadata": {
        "id": "rc0Jj5kQGHWB"
      }
    },
    {
      "cell_type": "code",
      "source": [
        "# Build CNN teacher.\n",
        "cnn_model = tf.keras.Sequential([\n",
        "\n",
        "    # Each image in MINIST dataset has shape of (28, 28, 1)\n",
        "    tf.keras.layers.Conv2D(filters=32, kernel_size=(3, 3), strides=(1, 1), activation='relu', input_shape=(28, 28, 1)),\n",
        "\n",
        "    tf.keras.layers.MaxPooling2D(pool_size=(2, 2), strides=(1, 1)),\n",
        "\n",
        "    tf.keras.layers.Conv2D(filters=64, kernel_size=(3,3), strides=(1, 1), activation='relu'),\n",
        "\n",
        "    tf.keras.layers.MaxPooling2D(pool_size=(2, 2), strides=(2, 2)),\n",
        "\n",
        "    tf.keras.layers.Flatten(),\n",
        "\n",
        "    tf.keras.layers.Dropout(rate=0.5),\n",
        "    tf.keras.layers.Dense(units=128, activation='relu'),\n",
        "\n",
        "    tf.keras.layers.Dropout(rate=0.5),\n",
        "    # There are 10 classes in MINIST dataset\n",
        "    tf.keras.layers.Dense(10)\n",
        "])\n",
        "\n",
        "cnn_model.summary()\n",
        "\n",
        "# your code start from here for stpe 2\n",
        "\n",
        "\n",
        "# Build fully connected student.\n",
        "fc_model = tf.keras.Sequential([\n",
        "\n",
        "    tf.keras.layers.Flatten(input_shape=(28, 28, 1)),\n",
        "\n",
        "    tf.keras.layers.Dense(units=784, activation='relu'),\n",
        "\n",
        "    tf.keras.layers.Dense(units=784, activation='relu'),\n",
        "\n",
        "    # There are 10 classes in MINIST dataset\n",
        "    tf.keras.layers.Dense(10)\n",
        "])\n",
        "\n",
        "fc_model.summary()\n",
        "\n",
        "# your code start from here for step 2"
      ],
      "metadata": {
        "id": "b2XKK6QiGLrN",
        "colab": {
          "base_uri": "https://localhost:8080/"
        },
        "outputId": "8a8bac68-907d-447a-f844-e6919ad83098"
      },
      "execution_count": 43,
      "outputs": [
        {
          "output_type": "stream",
          "name": "stdout",
          "text": [
            "Model: \"sequential_11\"\n",
            "_________________________________________________________________\n",
            " Layer (type)                Output Shape              Param #   \n",
            "=================================================================\n",
            " conv2d_10 (Conv2D)          (None, 26, 26, 32)        320       \n",
            "                                                                 \n",
            " max_pooling2d_10 (MaxPooli  (None, 25, 25, 32)        0         \n",
            " ng2D)                                                           \n",
            "                                                                 \n",
            " conv2d_11 (Conv2D)          (None, 23, 23, 64)        18496     \n",
            "                                                                 \n",
            " max_pooling2d_11 (MaxPooli  (None, 11, 11, 64)        0         \n",
            " ng2D)                                                           \n",
            "                                                                 \n",
            " flatten_11 (Flatten)        (None, 7744)              0         \n",
            "                                                                 \n",
            " dropout_10 (Dropout)        (None, 7744)              0         \n",
            "                                                                 \n",
            " dense_28 (Dense)            (None, 128)               991360    \n",
            "                                                                 \n",
            " dropout_11 (Dropout)        (None, 128)               0         \n",
            "                                                                 \n",
            " dense_29 (Dense)            (None, 10)                1290      \n",
            "                                                                 \n",
            "=================================================================\n",
            "Total params: 1011466 (3.86 MB)\n",
            "Trainable params: 1011466 (3.86 MB)\n",
            "Non-trainable params: 0 (0.00 Byte)\n",
            "_________________________________________________________________\n",
            "Model: \"sequential_12\"\n",
            "_________________________________________________________________\n",
            " Layer (type)                Output Shape              Param #   \n",
            "=================================================================\n",
            " flatten_12 (Flatten)        (None, 784)               0         \n",
            "                                                                 \n",
            " dense_30 (Dense)            (None, 784)               615440    \n",
            "                                                                 \n",
            " dense_31 (Dense)            (None, 784)               615440    \n",
            "                                                                 \n",
            " dense_32 (Dense)            (None, 10)                7850      \n",
            "                                                                 \n",
            "=================================================================\n",
            "Total params: 1238730 (4.73 MB)\n",
            "Trainable params: 1238730 (4.73 MB)\n",
            "Non-trainable params: 0 (0.00 Byte)\n",
            "_________________________________________________________________\n"
          ]
        }
      ]
    },
    {
      "cell_type": "markdown",
      "source": [
        "# Question 3"
      ],
      "metadata": {
        "id": "kNWucxEtOBBE"
      }
    },
    {
      "cell_type": "markdown",
      "source": [
        "**Teacher loss function**"
      ],
      "metadata": {
        "id": "Hj4jG0yYOtNM"
      }
    },
    {
      "cell_type": "code",
      "source": [
        "@tf.function\n",
        "def compute_teacher_loss(images, labels):\n",
        "    \"\"\"Compute subclass knowledge distillation teacher loss for given images\n",
        "       and labels.\n",
        "\n",
        "    Args:\n",
        "      images: Tensor representing a batch of images.\n",
        "      labels: Tensor representing a batch of labels.\n",
        "\n",
        "    Returns:\n",
        "      Scalar loss Tensor.\n",
        "    \"\"\"\n",
        "    subclass_logits = cnn_model(images, training=True)\n",
        "\n",
        "    # your code start from here for step 3\n",
        "    # Compute cross-entropy loss for subclasses.\n",
        "    cross_entropy_loss_value = tf.reduce_mean(\n",
        "        tf.nn.softmax_cross_entropy_with_logits(labels, subclass_logits)\n",
        "    )\n",
        "\n",
        "    return cross_entropy_loss_value"
      ],
      "metadata": {
        "id": "Z7MTHc1mOCqN"
      },
      "execution_count": 44,
      "outputs": []
    },
    {
      "cell_type": "markdown",
      "source": [
        "**Student loss function**"
      ],
      "metadata": {
        "id": "qLoMYKOuOyuz"
      }
    },
    {
      "cell_type": "code",
      "source": [
        "# Hyperparameters for distillation (need to be tuned).\n",
        "ALPHA = 0.8 # task balance between cross-entropy and distillation loss\n",
        "DISTILLATION_TEMPERATURE = 10. #temperature hyperparameter\n",
        "\n",
        "def distillation_loss(teacher_logits: tf.Tensor, student_logits: tf.Tensor,\n",
        "                      temperature: Union[float, tf.Tensor]):\n",
        "    \"\"\"Compute distillation loss.\n",
        "\n",
        "    This function computes cross entropy between softened logits and softened\n",
        "    targets. The resulting loss is scaled by the squared temperature so that\n",
        "    the gradient magnitude remains approximately constant as the temperature is\n",
        "    changed. For reference, see Hinton et al., 2014, \"Distilling the knowledge in\n",
        "    a neural network.\"\n",
        "\n",
        "    Args:\n",
        "      teacher_logits: A Tensor of logits provided by the teacher.\n",
        "      student_logits: A Tensor of logits provided by the student, of the same\n",
        "        shape as `teacher_logits`.\n",
        "      temperature: Temperature to use for distillation.\n",
        "\n",
        "    Returns:\n",
        "      A scalar Tensor containing the distillation loss.\n",
        "    \"\"\"\n",
        "    # your code start from here for step 3\n",
        "    soft_targets = tf.nn.softmax(teacher_logits / temperature)\n",
        "\n",
        "    return tf.reduce_mean(\n",
        "        tf.nn.softmax_cross_entropy_with_logits(\n",
        "            soft_targets, student_logits / temperature)) * temperature ** 2\n",
        "\n",
        "def compute_student_loss(images, labels):\n",
        "    \"\"\"Compute subclass knowledge distillation student loss for given images\n",
        "      and labels.\n",
        "\n",
        "    Args:\n",
        "      images: Tensor representing a batch of images.\n",
        "      labels: Tensor representing a batch of labels.\n",
        "\n",
        "    Returns:\n",
        "      Scalar loss Tensor.\n",
        "    \"\"\"\n",
        "    student_subclass_logits = fc_model(images, training=True)\n",
        "\n",
        "    # Compute subclass distillation loss between student subclass logits and\n",
        "    # softened teacher subclass targets probabilities.\n",
        "\n",
        "    # your code start from here for step 3\n",
        "\n",
        "    teacher_subclass_logits = cnn_model(images, training=False)\n",
        "    distillation_loss_value = distillation_loss(teacher_subclass_logits, student_subclass_logits, DISTILLATION_TEMPERATURE)\n",
        "\n",
        "    # Compute cross-entropy loss with hard targets.\n",
        "\n",
        "    # your code start from here for step 3\n",
        "\n",
        "    cross_entropy_loss_value = tf.reduce_mean(\n",
        "        tf.nn.softmax_cross_entropy_with_logits(labels, student_subclass_logits)\n",
        "    )\n",
        "\n",
        "    combined_loss = ALPHA * distillation_loss_value + (1 - ALPHA) * cross_entropy_loss_value\n",
        "\n",
        "    return combined_loss"
      ],
      "metadata": {
        "id": "OKN83rdhOf7m"
      },
      "execution_count": 45,
      "outputs": []
    },
    {
      "cell_type": "markdown",
      "source": [
        "# Question 4"
      ],
      "metadata": {
        "id": "MVqzq0qqY1u_"
      }
    },
    {
      "cell_type": "markdown",
      "source": [
        "**Train and evaluation**"
      ],
      "metadata": {
        "id": "1tcgJNa1Y3xx"
      }
    },
    {
      "cell_type": "code",
      "source": [
        "NUM_EPOCHS = 12\n",
        "\n",
        "@tf.function\n",
        "def compute_num_correct(model, images, labels):\n",
        "    \"\"\"Compute number of correctly classified images in a batch.\n",
        "\n",
        "    Args:\n",
        "      model: Instance of tf.keras.Model.\n",
        "      images: Tensor representing a batch of images.\n",
        "      labels: Tensor representing a batch of labels.\n",
        "\n",
        "    Returns:\n",
        "      Number of correctly classified images.\n",
        "    \"\"\"\n",
        "    class_logits = model(images, training=False)\n",
        "    return tf.reduce_sum(\n",
        "        tf.cast(tf.math.equal(tf.argmax(class_logits, -1), tf.argmax(labels, -1)),\n",
        "                tf.float32)), tf.argmax(class_logits, -1), tf.argmax(labels, -1)\n",
        "\n",
        "\n",
        "def train_and_evaluate(model, compute_loss_fn):\n",
        "    \"\"\"Perform training and evaluation for a given model.\n",
        "\n",
        "    Args:\n",
        "      model: Instance of tf.keras.Model.\n",
        "      compute_loss_fn: A function that computes the training loss given the\n",
        "        images, and labels.\n",
        "    \"\"\"\n",
        "\n",
        "    # your code start from here for step 4\n",
        "    # Initialize Adam optimizer with learning rate of 0.001\n",
        "    optimizer = tf.keras.optimizers.Adam(learning_rate=0.001)\n",
        "\n",
        "    for epoch in range(1, NUM_EPOCHS + 1):\n",
        "      # Run training.\n",
        "      print('Epoch {}: '.format(epoch), end='')\n",
        "      for images, labels in mnist_train:\n",
        "        # For backpropagation\n",
        "        # Records the operations performed inside its block to compute gradients\n",
        "        with tf.GradientTape() as tape:\n",
        "          # your code start from here for step 4\n",
        "\n",
        "          # Compute loss\n",
        "          loss_value = compute_loss_fn(images, labels)\n",
        "\n",
        "        # Use the recorded operations to compute the gradients\n",
        "        grads = tape.gradient(loss_value, model.trainable_variables)\n",
        "        optimizer.apply_gradients(zip(grads, model.trainable_variables))\n",
        "\n",
        "      # Run evaluation.\n",
        "      num_correct = 0\n",
        "      num_total = builder.info.splits['test'].num_examples\n",
        "      for images, labels in mnist_test:\n",
        "        # your code start from here for step 4\n",
        "        num_correct_batch, _, _ = compute_num_correct(model, images, labels)\n",
        "        num_correct += num_correct_batch\n",
        "      print(\"Class_accuracy: \" + '{:.2f}%'.format(\n",
        "          num_correct / num_total * 100))"
      ],
      "metadata": {
        "id": "193QKH1OY70J"
      },
      "execution_count": 46,
      "outputs": []
    },
    {
      "cell_type": "markdown",
      "source": [
        "# Question 5"
      ],
      "metadata": {
        "id": "CykfmYE3f-50"
      }
    },
    {
      "cell_type": "markdown",
      "source": [
        "**Training models**"
      ],
      "metadata": {
        "id": "jQuBGQEQgAut"
      }
    },
    {
      "cell_type": "code",
      "source": [
        "# your code start from here for step 5\n",
        "\n",
        "# Train teacher model\n",
        "print(\"Training Teacher Model\")\n",
        "train_and_evaluate(cnn_model, compute_teacher_loss)\n",
        "\n",
        "# Train student model\n",
        "print(\"\\nTraining Student Model\")\n",
        "train_and_evaluate(fc_model, compute_student_loss)"
      ],
      "metadata": {
        "colab": {
          "base_uri": "https://localhost:8080/"
        },
        "id": "v1npY-KtgFg9",
        "outputId": "451d07b0-ab94-410b-a8a3-44d1c665658c"
      },
      "execution_count": 47,
      "outputs": [
        {
          "output_type": "stream",
          "name": "stdout",
          "text": [
            "Training Teacher Model\n",
            "Epoch 1: Class_accuracy: 98.13%\n",
            "Epoch 2: Class_accuracy: 98.66%\n",
            "Epoch 3: Class_accuracy: 99.12%\n",
            "Epoch 4: Class_accuracy: 99.04%\n",
            "Epoch 5: Class_accuracy: 99.10%\n",
            "Epoch 6: Class_accuracy: 99.18%\n",
            "Epoch 7: Class_accuracy: 99.20%\n",
            "Epoch 8: Class_accuracy: 99.19%\n",
            "Epoch 9: Class_accuracy: 99.10%\n",
            "Epoch 10: Class_accuracy: 99.28%\n",
            "Epoch 11: Class_accuracy: 99.36%\n",
            "Epoch 12: Class_accuracy: 99.31%\n",
            "\n",
            "Training Student Model\n",
            "Epoch 1: Class_accuracy: 96.79%\n",
            "Epoch 2: Class_accuracy: 97.76%\n",
            "Epoch 3: Class_accuracy: 98.27%\n",
            "Epoch 4: Class_accuracy: 98.38%\n",
            "Epoch 5: Class_accuracy: 98.61%\n",
            "Epoch 6: Class_accuracy: 98.61%\n",
            "Epoch 7: Class_accuracy: 98.60%\n",
            "Epoch 8: Class_accuracy: 98.73%\n",
            "Epoch 9: Class_accuracy: 98.76%\n",
            "Epoch 10: Class_accuracy: 98.71%\n",
            "Epoch 11: Class_accuracy: 98.78%\n",
            "Epoch 12: Class_accuracy: 98.76%\n"
          ]
        }
      ]
    },
    {
      "cell_type": "markdown",
      "source": [
        "# Question 6"
      ],
      "metadata": {
        "id": "gt2A8VDkzd0-"
      }
    },
    {
      "cell_type": "markdown",
      "source": [
        "**Test accuracy vs. tempreture curve**"
      ],
      "metadata": {
        "id": "T0kiLb6Vzm4P"
      }
    },
    {
      "cell_type": "code",
      "source": [
        "# I modified the train_and_evaluate function to save the class accuracies obtained during evalution for all epoches\n",
        "def train_and_evaluate(model, compute_loss_fn):\n",
        "    \"\"\"Perform training and evaluation for a given model.\n",
        "\n",
        "    Args:\n",
        "      model: Instance of tf.keras.Model.\n",
        "      compute_loss_fn: A function that computes the training loss given the\n",
        "        images, and labels.\n",
        "\n",
        "    Returns:\n",
        "      List of evaluation accuracies for each epoch.\n",
        "    \"\"\"\n",
        "    epoch_accuracies = []\n",
        "\n",
        "    # Initialize Adam optimizer with learning rate of 0.001\n",
        "    optimizer = tf.keras.optimizers.Adam(learning_rate=0.001)\n",
        "\n",
        "    for epoch in range(1, NUM_EPOCHS + 1):\n",
        "        # Run training.\n",
        "        print('Epoch {}: '.format(epoch), end='')\n",
        "        for images, labels in mnist_train:\n",
        "            with tf.GradientTape() as tape:\n",
        "                loss_value = compute_loss_fn(images, labels)\n",
        "\n",
        "            grads = tape.gradient(loss_value, model.trainable_variables)\n",
        "            optimizer.apply_gradients(zip(grads, model.trainable_variables))\n",
        "\n",
        "        # Run evaluation.\n",
        "        num_correct = 0\n",
        "        num_total = builder.info.splits['test'].num_examples\n",
        "        for images, labels in mnist_test:\n",
        "            num_correct_batch, _, _ = compute_num_correct(model, images, labels)\n",
        "            num_correct += num_correct_batch\n",
        "        accuracy = num_correct / num_total\n",
        "        epoch_accuracies.append(accuracy)\n",
        "        print(\"Class_accuracy: \" + '{:.2f}%'.format(accuracy * 100))\n",
        "\n",
        "    return epoch_accuracies"
      ],
      "metadata": {
        "id": "eqLqmYwRRcrX"
      },
      "execution_count": 50,
      "outputs": []
    },
    {
      "cell_type": "code",
      "source": [
        "ALPHA = 0.5\n",
        "temperatures = [1, 2, 4, 16, 32, 64]\n",
        "accuracies = []\n",
        "\n",
        "for T in temperatures:\n",
        "    # Set global DISTILLATION_TEMPERATURE\n",
        "    DISTILLATION_TEMPERATURE = T\n",
        "\n",
        "    # Train and evaluate student model\n",
        "    print(f\"\\nTraining the student model with T = {T}...\")\n",
        "    epoch_accuracies = train_and_evaluate(fc_model, compute_student_loss)\n",
        "\n",
        "    # Compute the average accuracy over epochs for this temperature\n",
        "    avg_accuracy = sum(epoch_accuracies) / len(epoch_accuracies)\n",
        "    accuracies.append(avg_accuracy)\n",
        "    print(f\"Average Test accuracy for T={T}: {avg_accuracy:.5f}\")\n",
        "\n",
        "# Plotting the curve\n",
        "plt.figure(figsize=(10, 5))\n",
        "plt.plot(temperatures, accuracies, marker='o')\n",
        "plt.xlabel('Temperature T')\n",
        "plt.ylabel('Average Student Test Accuracy')\n",
        "plt.title('Average Student Test Accuracy vs. Temperature Hyperparameter')\n",
        "plt.grid(True)\n",
        "plt.show()"
      ],
      "metadata": {
        "colab": {
          "base_uri": "https://localhost:8080/",
          "height": 1000
        },
        "id": "SI9zRCaOzopS",
        "outputId": "5d6e2d79-940a-405d-beb8-e1a14751d14c"
      },
      "execution_count": 51,
      "outputs": [
        {
          "output_type": "stream",
          "name": "stdout",
          "text": [
            "\n",
            "Training the student model with T = 1...\n",
            "Epoch 1: Class_accuracy: 98.62%\n",
            "Epoch 2: Class_accuracy: 98.75%\n",
            "Epoch 3: Class_accuracy: 98.82%\n",
            "Epoch 4: Class_accuracy: 98.81%\n",
            "Epoch 5: Class_accuracy: 98.75%\n",
            "Epoch 6: Class_accuracy: 98.87%\n",
            "Epoch 7: Class_accuracy: 98.77%\n",
            "Epoch 8: Class_accuracy: 98.69%\n",
            "Epoch 9: Class_accuracy: 98.62%\n",
            "Epoch 10: Class_accuracy: 98.58%\n",
            "Epoch 11: Class_accuracy: 98.45%\n",
            "Epoch 12: Class_accuracy: 98.64%\n",
            "Average Test accuracy for T=1: 0.98697\n",
            "\n",
            "Training the student model with T = 2...\n",
            "Epoch 1: Class_accuracy: 98.90%\n",
            "Epoch 2: Class_accuracy: 98.85%\n",
            "Epoch 3: Class_accuracy: 98.86%\n",
            "Epoch 4: Class_accuracy: 98.89%\n",
            "Epoch 5: Class_accuracy: 98.84%\n",
            "Epoch 6: Class_accuracy: 98.92%\n",
            "Epoch 7: Class_accuracy: 98.90%\n",
            "Epoch 8: Class_accuracy: 98.94%\n",
            "Epoch 9: Class_accuracy: 98.92%\n",
            "Epoch 10: Class_accuracy: 98.88%\n",
            "Epoch 11: Class_accuracy: 98.93%\n",
            "Epoch 12: Class_accuracy: 98.87%\n",
            "Average Test accuracy for T=2: 0.98892\n",
            "\n",
            "Training the student model with T = 4...\n",
            "Epoch 1: Class_accuracy: 99.00%\n",
            "Epoch 2: Class_accuracy: 98.99%\n",
            "Epoch 3: Class_accuracy: 98.97%\n",
            "Epoch 4: Class_accuracy: 98.95%\n",
            "Epoch 5: Class_accuracy: 98.97%\n",
            "Epoch 6: Class_accuracy: 98.98%\n",
            "Epoch 7: Class_accuracy: 98.96%\n",
            "Epoch 8: Class_accuracy: 98.97%\n",
            "Epoch 9: Class_accuracy: 98.97%\n",
            "Epoch 10: Class_accuracy: 98.98%\n",
            "Epoch 11: Class_accuracy: 98.96%\n",
            "Epoch 12: Class_accuracy: 98.98%\n",
            "Average Test accuracy for T=4: 0.98973\n",
            "\n",
            "Training the student model with T = 16...\n",
            "Epoch 1: Class_accuracy: 99.03%\n",
            "Epoch 2: Class_accuracy: 99.03%\n",
            "Epoch 3: Class_accuracy: 99.03%\n",
            "Epoch 4: Class_accuracy: 99.04%\n",
            "Epoch 5: Class_accuracy: 99.03%\n",
            "Epoch 6: Class_accuracy: 98.98%\n",
            "Epoch 7: Class_accuracy: 99.07%\n",
            "Epoch 8: Class_accuracy: 99.05%\n",
            "Epoch 9: Class_accuracy: 99.05%\n",
            "Epoch 10: Class_accuracy: 99.04%\n",
            "Epoch 11: Class_accuracy: 99.08%\n",
            "Epoch 12: Class_accuracy: 99.04%\n",
            "Average Test accuracy for T=16: 0.99039\n",
            "\n",
            "Training the student model with T = 32...\n",
            "Epoch 1: Class_accuracy: 99.09%\n",
            "Epoch 2: Class_accuracy: 99.05%\n",
            "Epoch 3: Class_accuracy: 99.08%\n",
            "Epoch 4: Class_accuracy: 99.05%\n",
            "Epoch 5: Class_accuracy: 99.08%\n",
            "Epoch 6: Class_accuracy: 99.07%\n",
            "Epoch 7: Class_accuracy: 99.08%\n",
            "Epoch 8: Class_accuracy: 99.06%\n",
            "Epoch 9: Class_accuracy: 99.07%\n",
            "Epoch 10: Class_accuracy: 99.06%\n",
            "Epoch 11: Class_accuracy: 99.09%\n",
            "Epoch 12: Class_accuracy: 99.06%\n",
            "Average Test accuracy for T=32: 0.99070\n",
            "\n",
            "Training the student model with T = 64...\n",
            "Epoch 1: Class_accuracy: 99.06%\n",
            "Epoch 2: Class_accuracy: 99.09%\n",
            "Epoch 3: Class_accuracy: 99.09%\n",
            "Epoch 4: Class_accuracy: 99.09%\n",
            "Epoch 5: Class_accuracy: 99.11%\n",
            "Epoch 6: Class_accuracy: 99.09%\n",
            "Epoch 7: Class_accuracy: 99.09%\n",
            "Epoch 8: Class_accuracy: 99.07%\n",
            "Epoch 9: Class_accuracy: 99.08%\n",
            "Epoch 10: Class_accuracy: 99.08%\n",
            "Epoch 11: Class_accuracy: 99.06%\n",
            "Epoch 12: Class_accuracy: 99.04%\n",
            "Average Test accuracy for T=64: 0.99079\n"
          ]
        },
        {
          "output_type": "display_data",
          "data": {
            "text/plain": [
              "<Figure size 1000x500 with 1 Axes>"
            ],
            "image/png": "[encoded data removed]"
          },
          "metadata": {}
        }
      ]
    },
    {
      "cell_type": "markdown",
      "source": [
        "# Question 7"
      ],
      "metadata": {
        "id": "UhltWuU_D_22"
      }
    },
    {
      "cell_type": "markdown",
      "source": [
        "**Train student from scratch**"
      ],
      "metadata": {
        "id": "Uc-VCfNXEIpL"
      }
    },
    {
      "cell_type": "code",
      "source": [
        "# Build fully connected student.\n",
        "fc_model_no_distillation = tf.keras.Sequential([\n",
        "\n",
        "    tf.keras.layers.Flatten(input_shape=(28, 28, 1)),\n",
        "\n",
        "    tf.keras.layers.Dense(units=784, activation='relu'),\n",
        "\n",
        "    tf.keras.layers.Dense(units=784, activation='relu'),\n",
        "\n",
        "    # There are 10 classes in MINIST dataset\n",
        "    tf.keras.layers.Dense(10)\n",
        "])\n",
        "\n",
        "# your code start from here for step 7\n",
        "\n",
        "\n",
        "def compute_plain_cross_entropy_loss(images, labels):\n",
        "  \"\"\"Compute plain loss for given images and labels.\n",
        "\n",
        "  For fair comparison and convenience, this function also performs a\n",
        "  LogSumExp over subclasses, but does not perform subclass distillation.\n",
        "\n",
        "  Args:\n",
        "    images: Tensor representing a batch of images.\n",
        "    labels: Tensor representing a batch of labels.\n",
        "\n",
        "  Returns:\n",
        "    Scalar loss Tensor.\n",
        "  \"\"\"\n",
        "  # your code start from here for step 7\n",
        "\n",
        "  student_subclass_logits = fc_model_no_distillation(images, training=True)\n",
        "  cross_entropy_loss = tf.reduce_mean(\n",
        "        tf.nn.softmax_cross_entropy_with_logits(labels, student_subclass_logits)\n",
        "  )\n",
        "\n",
        "  return cross_entropy_loss\n",
        "\n",
        "\n",
        "train_and_evaluate(fc_model_no_distillation, compute_plain_cross_entropy_loss)"
      ],
      "metadata": {
        "colab": {
          "base_uri": "https://localhost:8080/"
        },
        "id": "LLjiDoozEFN0",
        "outputId": "49dcc935-e80b-4415-dfa8-4d5099394790"
      },
      "execution_count": 52,
      "outputs": [
        {
          "output_type": "stream",
          "name": "stdout",
          "text": [
            "Epoch 1: Class_accuracy: 97.06%\n",
            "Epoch 2: Class_accuracy: 97.59%\n",
            "Epoch 3: Class_accuracy: 97.80%\n",
            "Epoch 4: Class_accuracy: 97.96%\n",
            "Epoch 5: Class_accuracy: 97.55%\n",
            "Epoch 6: Class_accuracy: 97.95%\n",
            "Epoch 7: Class_accuracy: 98.06%\n",
            "Epoch 8: Class_accuracy: 98.15%\n",
            "Epoch 9: Class_accuracy: 97.69%\n",
            "Epoch 10: Class_accuracy: 98.11%\n",
            "Epoch 11: Class_accuracy: 97.84%\n",
            "Epoch 12: Class_accuracy: 98.05%\n"
          ]
        },
        {
          "output_type": "execute_result",
          "data": {
            "text/plain": [
              "[<tf.Tensor: shape=(), dtype=float32, numpy=0.9706>,\n",
              " <tf.Tensor: shape=(), dtype=float32, numpy=0.9759>,\n",
              " <tf.Tensor: shape=(), dtype=float32, numpy=0.978>,\n",
              " <tf.Tensor: shape=(), dtype=float32, numpy=0.9796>,\n",
              " <tf.Tensor: shape=(), dtype=float32, numpy=0.9755>,\n",
              " <tf.Tensor: shape=(), dtype=float32, numpy=0.9795>,\n",
              " <tf.Tensor: shape=(), dtype=float32, numpy=0.9806>,\n",
              " <tf.Tensor: shape=(), dtype=float32, numpy=0.9815>,\n",
              " <tf.Tensor: shape=(), dtype=float32, numpy=0.9769>,\n",
              " <tf.Tensor: shape=(), dtype=float32, numpy=0.9811>,\n",
              " <tf.Tensor: shape=(), dtype=float32, numpy=0.9784>,\n",
              " <tf.Tensor: shape=(), dtype=float32, numpy=0.9805>]"
            ]
          },
          "metadata": {},
          "execution_count": 52
        }
      ]
    },
    {
      "cell_type": "markdown",
      "source": [
        "# **Task 2: Knowledge Distillation in MHIST Dataset**"
      ],
      "metadata": {
        "id": "IBWa_nK7AFvQ"
      }
    },
    {
      "cell_type": "code",
      "source": [],
      "metadata": {
        "id": "V98krVG3_52s"
      },
      "execution_count": null,
      "outputs": []
    }
  ]
}